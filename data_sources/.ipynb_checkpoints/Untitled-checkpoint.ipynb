{
 "cells": [
  {
   "cell_type": "code",
   "execution_count": 1,
   "id": "291ea5f9-87e3-474a-bfd7-9a0fb21475dd",
   "metadata": {},
   "outputs": [],
   "source": [
    "import import_egrid as ie\n"
   ]
  },
  {
   "cell_type": "code",
   "execution_count": 2,
   "id": "1b78aa99-c328-442a-8fbb-66211550f18a",
   "metadata": {},
   "outputs": [
    {
     "name": "stdout",
     "output_type": "stream",
     "text": [
      "eGRID2012_Data.xlsx\n",
      "eGRID2021_data.xlsx\n",
      "egrid2019_data.xlsx\n",
      "eGRID2020_Data_v2.xlsx\n",
      "eGRID2007_plant.xls\n",
      "eGRID2010_Data.xls\n",
      "egrid2018_data_v2.xlsx\n",
      "eGRID2009_data.xls\n",
      "eGRID2004_plant.xls\n",
      "egrid2016_data.xlsx\n",
      "eGRID2014_Data_v2.xlsx\n",
      "eGRID2005_plant.xls\n",
      "egrid2022_data.xlsx\n"
     ]
    }
   ],
   "source": [
    "raw_dict = ie.import_PLNT_sheet_data()\n"
   ]
  },
  {
   "cell_type": "code",
   "execution_count": null,
   "id": "1b5e7865-d9c7-4fb1-b25e-585af5ea0f97",
   "metadata": {},
   "outputs": [],
   "source": [
    "df_2012 = raw_dict[\"eGRID2012_Data.xlsx\"]\n",
    "\n",
    "\n"
   ]
  },
  {
   "cell_type": "code",
   "execution_count": null,
   "id": "fc77be65-2509-479c-8cb2-f7f80cde7314",
   "metadata": {},
   "outputs": [],
   "source": [
    "df_2012['year_state'] = df_2012[\"YEAR\"] + '_' + df_2012[\"state_id\"]\n",
    "df_2012['year_state']\n",
    "\n",
    "df_2012.rename(columns={'PSTATABB': 'state_id'}, inplace=True)\n",
    "df_2012['state_id']\n"
   ]
  },
  {
   "cell_type": "code",
   "execution_count": 3,
   "id": "a6a6f386-21ab-4b3e-a3c2-a41aa49f43ce",
   "metadata": {},
   "outputs": [],
   "source": [
    "import clean_raw_egrid_data as clean\n"
   ]
  },
  {
   "cell_type": "code",
   "execution_count": 4,
   "id": "c8c03236-2657-47db-9003-241b9b6dfad0",
   "metadata": {},
   "outputs": [],
   "source": [
    "big_df = clean.slim_and_append(raw_dict)\n",
    "\n"
   ]
  },
  {
   "cell_type": "code",
   "execution_count": null,
   "id": "983e2087-8fb3-4180-8e20-8e77c7ed7bd9",
   "metadata": {},
   "outputs": [],
   "source": [
    "x = big_df.columns.to_list()\n",
    "x\n"
   ]
  },
  {
   "cell_type": "code",
   "execution_count": 9,
   "id": "e8cb3097-9990-4bbb-9830-293526eae967",
   "metadata": {},
   "outputs": [],
   "source": [
    "import make_db as db\n",
    "\n",
    "db.makedb(big_df)\n"
   ]
  }
 ],
 "metadata": {
  "kernelspec": {
   "display_name": "Python 3 (ipykernel)",
   "language": "python",
   "name": "python3"
  },
  "language_info": {
   "codemirror_mode": {
    "name": "ipython",
    "version": 3
   },
   "file_extension": ".py",
   "mimetype": "text/x-python",
   "name": "python",
   "nbconvert_exporter": "python",
   "pygments_lexer": "ipython3",
   "version": "3.12.0"
  }
 },
 "nbformat": 4,
 "nbformat_minor": 5
}
