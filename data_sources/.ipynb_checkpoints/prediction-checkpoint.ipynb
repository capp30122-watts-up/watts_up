{
 "cells": [
  {
   "cell_type": "code",
   "execution_count": 60,
   "id": "5fd95efb-62a7-4dd5-b0ea-33fa829f6584",
   "metadata": {},
   "outputs": [],
   "source": [
    "import sqlite3\n",
    "import pandas as pd\n",
    "from sklearn.model_selection import train_test_split\n",
    "from sklearn.linear_model import LinearRegression\n",
    "from pathlib import Path\n",
    "import statsmodels.api as sm\n",
    "import plotly.express as px\n",
    "\n",
    "def connect_to_database():\n",
    "    db_folder = Path('database')\n",
    "    conn = sqlite3.connect(db_folder / 'plants.db')\n",
    "    return conn\n",
    "\n",
    "def query_total_generation(conn):\n",
    "    query = '''\n",
    "        SELECT p.year_state, p.year, p.state_id, p.plfuelct,\n",
    "        sum(p.PLGENATN) as total_non_renew_gen, sum(p.PLGENATR) as total_renew_gen\n",
    "        FROM plants p\n",
    "        GROUP BY p.year_state, p.year;\n",
    "    '''\n",
    "    data = pd.read_sql_query(query, conn)\n",
    "    return data\n",
    "\n",
    "def query_plant_types(conn):\n",
    "    query = '''\n",
    "        SELECT p.year_state, p.year, p.state_id, p.PLFUELCT,p.PLGENATN as renew_gen,p.PLGENATR as non_renew\n",
    "        FROM plants p;\n",
    "    '''\n",
    "    data2 = pd.read_sql_query(query, conn)\n",
    "    return data2\n",
    "\n",
    "def prep_line_chart(data2):\n",
    "    plant_typesplotting = ['GAS', 'NUCLEAR', 'COAL', 'WIND', 'SOLAR']\n",
    "    RenewableGeneration = \"renew_gen\"\n",
    "    NonRenewableGeneration = \"non_renew\"\n",
    "\n",
    "    data2['plant_type'] = 'OTHER SOURCES'\n",
    "\n",
    "    for index, row in data2.iterrows():\n",
    "        if row['plfuelct'] in plant_typesplotting:\n",
    "            data2.at[index, 'plant_type'] = row['plfuelct']\n",
    "\n",
    "    data2['total_generation'] = data2[RenewableGeneration] + data2[NonRenewableGeneration]\n",
    "    data2['total_generation_year'] = data2.groupby('year')['total_generation'].transform('sum')\n",
    "\n",
    "    counts = data2.groupby(['year', 'plant_type'])['total_generation'].\\\n",
    "    sum().reset_index(name='total_generation_plant_type')\n",
    "    counts['percentage'] = (counts['total_generation_plant_type'] / \\\n",
    "                            counts.groupby('year')['total_generation_plant_type'].transform('sum')) * 100\n",
    "    return counts\n",
    "\n",
    "def create_line_chart(counts, plant_typesplotting):\n",
    "    fig = px.line(counts, x='year', y='percentage', color='plant_type', markers=True, line_shape='linear',\n",
    "                category_orders={'plant_type': plant_typesplotting},\n",
    "                color_discrete_sequence=px.colors.qualitative.G10)\n",
    "\n",
    "    fig.update_layout(title='Percentage of Total Plants for Each Plant Type Over the Years',\n",
    "                    xaxis_title='Year',\n",
    "                    yaxis_title='Percentage of Total Plants',\n",
    "                    legend_title='Plant Type',\n",
    "                    yaxis=dict(tickformat=\"\"),\n",
    "                    plot_bgcolor='white',\n",
    "                    xaxis=dict(\n",
    "                        showline=True,\n",
    "                        showgrid=False,\n",
    "                        showticklabels=True,\n",
    "                        linecolor='black',\n",
    "                        linewidth=2,\n",
    "                        ticks='outside',\n",
    "                        tickfont=dict(\n",
    "                            family='Arial',\n",
    "                            size=12,\n",
    "                            color='black',\n",
    "                        )),\n",
    "                        width=1100, \n",
    "                        height=600)\n",
    "\n",
    "    fig.show()\n",
    "\n",
    "def prediction_data_prep(data):\n",
    "\n",
    "    RenewableGeneration = \"total_renew_gen\"\n",
    "    NonRenewableGeneration = \"total_non_renew_gen\"\n",
    "    total_generation_column = \"total_generation\"\n",
    "\n",
    "    data[total_generation_column] = data[RenewableGeneration] + data[NonRenewableGeneration]\n",
    "\n",
    "\n",
    "    data[\"PercentageRenewable\"] = (data[RenewableGeneration] / data[total_generation_column]) * 100\n",
    "    data[\"PercentageNonRenewable\"] = (data[NonRenewableGeneration] / data[total_generation_column]) * 100\n",
    "    data = data[data['state_id'] != 'PR']\n",
    "\n",
    "    return data\n",
    "\n",
    "\n",
    "def create_treemap(raw_df,given_type, year):\n",
    "    grouped_data = raw_df.groupby(['year', 'state_id', 'plant_type']).size().reset_index(name='count')\n",
    "    given_type = given_type\n",
    "    given_typedf = grouped_data[grouped_data['plant_type'] == given_type]\n",
    "    fig = px.treemap(given_typedf[given_typedf['year'] == year],\n",
    "                     path=['state_id'],\n",
    "                     values='count',\n",
    "                     title=f'{given_type} Plants in {year} by State',\n",
    "                     color='count',\n",
    "                     color_continuous_scale='Viridis',\n",
    "                     hover_data=['count'])  \n",
    "\n",
    "    total_count = given_typedf[given_typedf['year'] == year]['count'].sum()\n",
    "\n",
    "    fig.add_annotation(\n",
    "        x=0.5,\n",
    "        y=.92,\n",
    "        text=f'Total: {total_count}',\n",
    "        showarrow=True,\n",
    "        font=dict(size=25)\n",
    "    )\n",
    "\n",
    "    fig.show()\n",
    "\n",
    "def predict_renewable_energy(data, percent_required):\n",
    "    results = []\n",
    "\n",
    "    grouped_data = data.groupby('state_id')\n",
    "    for state, state_data in grouped_data:\n",
    "        if state_data[\"PercentageRenewable\"].iloc[-1] < percent_required:\n",
    "            train_data, test_data = train_test_split(state_data, test_size=0.2, random_state=100)\n",
    "            X_train = train_data[['PercentageRenewable']]\n",
    "            y_train = train_data['year']\n",
    "            X_train = sm.add_constant(X_train)\n",
    "            model = sm.OLS(y_train, X_train).fit()\n",
    "            X_test = sm.add_constant(test_data[['PercentageRenewable']])\n",
    "            y_pred = model.predict(X_test)\n",
    "            p_value = model.pvalues['PercentageRenewable']\n",
    "            predicted_year = round(model.predict([1, percent_required])[0])\n",
    "            statistically_significant = 'Yes' if p_value < 0.05 else 'No'\n",
    "            current_year = pd.to_datetime('today').year\n",
    "\n",
    "            if predicted_year >= current_year:\n",
    "                statistically_significant = 'Yes' if p_value < 0.05 else 'No'\n",
    "                results.append({'state_id': state, 'predicted_year': int(predicted_year),\n",
    "                                'statistically_significant': statistically_significant})\n",
    "            else:\n",
    "                statistically_significant = 'Yes' if p_value < 0.05 else 'No'\n",
    "                predicted_year = 'Not predictable'\n",
    "                results.append({'state_id': state, 'predicted_year': predicted_year,\n",
    "                                'statistically_significant': statistically_significant})\n",
    "        else:\n",
    "            results.append({'state_id': state, 'predicted_year': 'Already there!',\n",
    "                            'statistically_significant': statistically_significant})\n",
    "\n",
    "    results_df = pd.DataFrame(results)\n",
    "    results_df.to_csv('place_holder_predictions.csv')\n",
    "    return results_df\n",
    "\n",
    "def run():\n",
    "    conn = connect_to_database()\n",
    "    data = query_total_generation(conn)\n",
    "    data2 = query_plant_types(conn)\n",
    "    conn.close()\n",
    "    plant_typesplotting = ['GAS', 'NUCLEAR', 'COAL', 'WIND', 'SOLAR']\n",
    "    \n",
    "    counts = prep_line_chart(data2)\n",
    "    create_line_chart(counts,plant_typesplotting )\n",
    "\n",
    "\n",
    "\n",
    "    for year in [2004, 2014, 2022]:\n",
    "        create_treemap(data2 ,\"COAL\",year)\n",
    "    percentage = 60\n",
    "    predict_df = prediction_data_prep(data)\n",
    "    results_df = predict_renewable_energy(predict_df,percentage)\n",
    "    print(results_df)\n",
    "\n"
   ]
  },
  {
   "cell_type": "code",
   "execution_count": 61,
   "id": "00fe6294-fbd2-4042-b9e6-193a6b22307c",
   "metadata": {},
   "outputs": [
    {
     "ename": "KeyError",
     "evalue": "'renew_gen'",
     "output_type": "error",
     "traceback": [
      "\u001b[0;31m---------------------------------------------------------------------------\u001b[0m",
      "\u001b[0;31mKeyError\u001b[0m                                  Traceback (most recent call last)",
      "File \u001b[0;32m/Library/Frameworks/Python.framework/Versions/3.12/lib/python3.12/site-packages/pandas/core/indexes/base.py:3790\u001b[0m, in \u001b[0;36mIndex.get_loc\u001b[0;34m(self, key)\u001b[0m\n\u001b[1;32m   3789\u001b[0m \u001b[38;5;28;01mtry\u001b[39;00m:\n\u001b[0;32m-> 3790\u001b[0m     \u001b[38;5;28;01mreturn\u001b[39;00m \u001b[38;5;28;43mself\u001b[39;49m\u001b[38;5;241;43m.\u001b[39;49m\u001b[43m_engine\u001b[49m\u001b[38;5;241;43m.\u001b[39;49m\u001b[43mget_loc\u001b[49m\u001b[43m(\u001b[49m\u001b[43mcasted_key\u001b[49m\u001b[43m)\u001b[49m\n\u001b[1;32m   3791\u001b[0m \u001b[38;5;28;01mexcept\u001b[39;00m \u001b[38;5;167;01mKeyError\u001b[39;00m \u001b[38;5;28;01mas\u001b[39;00m err:\n",
      "File \u001b[0;32mindex.pyx:152\u001b[0m, in \u001b[0;36mpandas._libs.index.IndexEngine.get_loc\u001b[0;34m()\u001b[0m\n",
      "File \u001b[0;32mindex.pyx:181\u001b[0m, in \u001b[0;36mpandas._libs.index.IndexEngine.get_loc\u001b[0;34m()\u001b[0m\n",
      "File \u001b[0;32mpandas/_libs/hashtable_class_helper.pxi:7080\u001b[0m, in \u001b[0;36mpandas._libs.hashtable.PyObjectHashTable.get_item\u001b[0;34m()\u001b[0m\n",
      "File \u001b[0;32mpandas/_libs/hashtable_class_helper.pxi:7088\u001b[0m, in \u001b[0;36mpandas._libs.hashtable.PyObjectHashTable.get_item\u001b[0;34m()\u001b[0m\n",
      "\u001b[0;31mKeyError\u001b[0m: 'renew_gen'",
      "\nThe above exception was the direct cause of the following exception:\n",
      "\u001b[0;31mKeyError\u001b[0m                                  Traceback (most recent call last)",
      "Cell \u001b[0;32mIn[61], line 1\u001b[0m\n\u001b[0;32m----> 1\u001b[0m \u001b[43mrun\u001b[49m\u001b[43m(\u001b[49m\u001b[43m)\u001b[49m\n",
      "Cell \u001b[0;32mIn[60], line 162\u001b[0m, in \u001b[0;36mrun\u001b[0;34m()\u001b[0m\n\u001b[1;32m    159\u001b[0m conn\u001b[38;5;241m.\u001b[39mclose()\n\u001b[1;32m    160\u001b[0m plant_typesplotting \u001b[38;5;241m=\u001b[39m [\u001b[38;5;124m'\u001b[39m\u001b[38;5;124mGAS\u001b[39m\u001b[38;5;124m'\u001b[39m, \u001b[38;5;124m'\u001b[39m\u001b[38;5;124mNUCLEAR\u001b[39m\u001b[38;5;124m'\u001b[39m, \u001b[38;5;124m'\u001b[39m\u001b[38;5;124mCOAL\u001b[39m\u001b[38;5;124m'\u001b[39m, \u001b[38;5;124m'\u001b[39m\u001b[38;5;124mWIND\u001b[39m\u001b[38;5;124m'\u001b[39m, \u001b[38;5;124m'\u001b[39m\u001b[38;5;124mSOLAR\u001b[39m\u001b[38;5;124m'\u001b[39m]\n\u001b[0;32m--> 162\u001b[0m counts \u001b[38;5;241m=\u001b[39m \u001b[43mprep_line_chart\u001b[49m\u001b[43m(\u001b[49m\u001b[43mdata2\u001b[49m\u001b[43m)\u001b[49m\n\u001b[1;32m    163\u001b[0m create_line_chart(counts,plant_typesplotting )\n\u001b[1;32m    167\u001b[0m \u001b[38;5;28;01mfor\u001b[39;00m year \u001b[38;5;129;01min\u001b[39;00m [\u001b[38;5;241m2004\u001b[39m, \u001b[38;5;241m2014\u001b[39m, \u001b[38;5;241m2022\u001b[39m]:\n",
      "Cell \u001b[0;32mIn[60], line 43\u001b[0m, in \u001b[0;36mprep_line_chart\u001b[0;34m(data2)\u001b[0m\n\u001b[1;32m     40\u001b[0m     \u001b[38;5;28;01mif\u001b[39;00m row[\u001b[38;5;124m'\u001b[39m\u001b[38;5;124mplfuelct\u001b[39m\u001b[38;5;124m'\u001b[39m] \u001b[38;5;129;01min\u001b[39;00m plant_typesplotting:\n\u001b[1;32m     41\u001b[0m         data2\u001b[38;5;241m.\u001b[39mat[index, \u001b[38;5;124m'\u001b[39m\u001b[38;5;124mplant_type\u001b[39m\u001b[38;5;124m'\u001b[39m] \u001b[38;5;241m=\u001b[39m row[\u001b[38;5;124m'\u001b[39m\u001b[38;5;124mplfuelct\u001b[39m\u001b[38;5;124m'\u001b[39m]\n\u001b[0;32m---> 43\u001b[0m data2[\u001b[38;5;124m'\u001b[39m\u001b[38;5;124mtotal_generation\u001b[39m\u001b[38;5;124m'\u001b[39m] \u001b[38;5;241m=\u001b[39m \u001b[43mdata2\u001b[49m\u001b[43m[\u001b[49m\u001b[43mRenewableGeneration\u001b[49m\u001b[43m]\u001b[49m \u001b[38;5;241m+\u001b[39m data2[NonRenewableGeneration]\n\u001b[1;32m     44\u001b[0m data2[\u001b[38;5;124m'\u001b[39m\u001b[38;5;124mtotal_generation_year\u001b[39m\u001b[38;5;124m'\u001b[39m] \u001b[38;5;241m=\u001b[39m data2\u001b[38;5;241m.\u001b[39mgroupby(\u001b[38;5;124m'\u001b[39m\u001b[38;5;124myear\u001b[39m\u001b[38;5;124m'\u001b[39m)[\u001b[38;5;124m'\u001b[39m\u001b[38;5;124mtotal_generation\u001b[39m\u001b[38;5;124m'\u001b[39m]\u001b[38;5;241m.\u001b[39mtransform(\u001b[38;5;124m'\u001b[39m\u001b[38;5;124msum\u001b[39m\u001b[38;5;124m'\u001b[39m)\n\u001b[1;32m     46\u001b[0m counts \u001b[38;5;241m=\u001b[39m data2\u001b[38;5;241m.\u001b[39mgroupby([\u001b[38;5;124m'\u001b[39m\u001b[38;5;124myear\u001b[39m\u001b[38;5;124m'\u001b[39m, \u001b[38;5;124m'\u001b[39m\u001b[38;5;124mplant_type\u001b[39m\u001b[38;5;124m'\u001b[39m])[\u001b[38;5;124m'\u001b[39m\u001b[38;5;124mtotal_generation\u001b[39m\u001b[38;5;124m'\u001b[39m]\u001b[38;5;241m.\u001b[39m\\\n\u001b[1;32m     47\u001b[0m \u001b[38;5;28msum\u001b[39m()\u001b[38;5;241m.\u001b[39mreset_index(name\u001b[38;5;241m=\u001b[39m\u001b[38;5;124m'\u001b[39m\u001b[38;5;124mtotal_generation_plant_type\u001b[39m\u001b[38;5;124m'\u001b[39m)\n",
      "File \u001b[0;32m/Library/Frameworks/Python.framework/Versions/3.12/lib/python3.12/site-packages/pandas/core/frame.py:3896\u001b[0m, in \u001b[0;36mDataFrame.__getitem__\u001b[0;34m(self, key)\u001b[0m\n\u001b[1;32m   3894\u001b[0m \u001b[38;5;28;01mif\u001b[39;00m \u001b[38;5;28mself\u001b[39m\u001b[38;5;241m.\u001b[39mcolumns\u001b[38;5;241m.\u001b[39mnlevels \u001b[38;5;241m>\u001b[39m \u001b[38;5;241m1\u001b[39m:\n\u001b[1;32m   3895\u001b[0m     \u001b[38;5;28;01mreturn\u001b[39;00m \u001b[38;5;28mself\u001b[39m\u001b[38;5;241m.\u001b[39m_getitem_multilevel(key)\n\u001b[0;32m-> 3896\u001b[0m indexer \u001b[38;5;241m=\u001b[39m \u001b[38;5;28;43mself\u001b[39;49m\u001b[38;5;241;43m.\u001b[39;49m\u001b[43mcolumns\u001b[49m\u001b[38;5;241;43m.\u001b[39;49m\u001b[43mget_loc\u001b[49m\u001b[43m(\u001b[49m\u001b[43mkey\u001b[49m\u001b[43m)\u001b[49m\n\u001b[1;32m   3897\u001b[0m \u001b[38;5;28;01mif\u001b[39;00m is_integer(indexer):\n\u001b[1;32m   3898\u001b[0m     indexer \u001b[38;5;241m=\u001b[39m [indexer]\n",
      "File \u001b[0;32m/Library/Frameworks/Python.framework/Versions/3.12/lib/python3.12/site-packages/pandas/core/indexes/base.py:3797\u001b[0m, in \u001b[0;36mIndex.get_loc\u001b[0;34m(self, key)\u001b[0m\n\u001b[1;32m   3792\u001b[0m     \u001b[38;5;28;01mif\u001b[39;00m \u001b[38;5;28misinstance\u001b[39m(casted_key, \u001b[38;5;28mslice\u001b[39m) \u001b[38;5;129;01mor\u001b[39;00m (\n\u001b[1;32m   3793\u001b[0m         \u001b[38;5;28misinstance\u001b[39m(casted_key, abc\u001b[38;5;241m.\u001b[39mIterable)\n\u001b[1;32m   3794\u001b[0m         \u001b[38;5;129;01mand\u001b[39;00m \u001b[38;5;28many\u001b[39m(\u001b[38;5;28misinstance\u001b[39m(x, \u001b[38;5;28mslice\u001b[39m) \u001b[38;5;28;01mfor\u001b[39;00m x \u001b[38;5;129;01min\u001b[39;00m casted_key)\n\u001b[1;32m   3795\u001b[0m     ):\n\u001b[1;32m   3796\u001b[0m         \u001b[38;5;28;01mraise\u001b[39;00m InvalidIndexError(key)\n\u001b[0;32m-> 3797\u001b[0m     \u001b[38;5;28;01mraise\u001b[39;00m \u001b[38;5;167;01mKeyError\u001b[39;00m(key) \u001b[38;5;28;01mfrom\u001b[39;00m \u001b[38;5;21;01merr\u001b[39;00m\n\u001b[1;32m   3798\u001b[0m \u001b[38;5;28;01mexcept\u001b[39;00m \u001b[38;5;167;01mTypeError\u001b[39;00m:\n\u001b[1;32m   3799\u001b[0m     \u001b[38;5;66;03m# If we have a listlike key, _check_indexing_error will raise\u001b[39;00m\n\u001b[1;32m   3800\u001b[0m     \u001b[38;5;66;03m#  InvalidIndexError. Otherwise we fall through and re-raise\u001b[39;00m\n\u001b[1;32m   3801\u001b[0m     \u001b[38;5;66;03m#  the TypeError.\u001b[39;00m\n\u001b[1;32m   3802\u001b[0m     \u001b[38;5;28mself\u001b[39m\u001b[38;5;241m.\u001b[39m_check_indexing_error(key)\n",
      "\u001b[0;31mKeyError\u001b[0m: 'renew_gen'"
     ]
    }
   ],
   "source": [
    "run()"
   ]
  },
  {
   "cell_type": "code",
   "execution_count": 1,
   "id": "353e90d6-cddb-4de7-9384-874dac7be407",
   "metadata": {},
   "outputs": [],
   "source": [
    "import sqlite3\n",
    "import pandas as pd\n",
    "from sklearn.model_selection import train_test_split\n",
    "from sklearn.linear_model import LinearRegression\n",
    "from sklearn.metrics import mean_squared_error\n",
    "from pathlib import Path\n",
    "import matplotlib.pyplot as plt \n",
    "import statsmodels.api as sm"
   ]
  },
  {
   "cell_type": "code",
   "execution_count": 51,
   "id": "61746c8a-9507-4bc1-a8c2-69de27b49b7e",
   "metadata": {},
   "outputs": [],
   "source": [
    "db_folder = Path('database')\n",
    "\n",
    "conn = sqlite3.connect(db_folder / 'plants.db')\n",
    "query = '''\n",
    "    SELECT p.year_state, p.year, p.state_id,\n",
    "    sum(p.PLGENATN) as total_non_renew_gen, sum(p.PLGENATR) as total_renew_gen\n",
    "    FROM plants p\n",
    "    GROUP BY p.year_state, p.year;\n",
    "'''\n",
    "\n",
    "data = pd.read_sql_query(query, conn)\n",
    "\n",
    "conn.close()"
   ]
  },
  {
   "cell_type": "code",
   "execution_count": 18,
   "id": "44553662-af32-4164-b89f-f700154ee0b5",
   "metadata": {},
   "outputs": [],
   "source": [
    "db_folder = Path('database')\n",
    "\n",
    "conn = sqlite3.connect(db_folder / 'plants.db')\n",
    "\n",
    "query = '''\n",
    "    SELECT p.year_state, p.year, p.state_id, p.PLFUELCT,p.PLGENATN as renew_gen,p.PLGENATR as non_renew\n",
    "    FROM plants p;\n",
    "'''\n",
    "\n",
    "data2 = pd.read_sql_query(query, conn)\n",
    "\n",
    "conn.close()"
   ]
  },
  {
   "cell_type": "code",
   "execution_count": 23,
   "id": "df2aa8a7-2620-40e9-b09a-7e03caedfedb",
   "metadata": {},
   "outputs": [],
   "source": [
    "import numpy as np\n",
    "import pandas as pd\n",
    "\n",
    "plant_typesplotting = ['GAS', 'NUCLEAR', 'COAL', 'WIND', 'SOLAR']\n",
    "RenewableGeneration = \"renew_gen\"\n",
    "NonRenewableGeneration = \"non_renew\"\n",
    "state_column = \"state_id\"\n",
    "year_column = \"year\"\n",
    "total_generation_column = \"total_generation\"\n",
    "\n",
    "data2['plant_type'] = 'OTHER SOURCES'\n",
    "\n",
    "for index, row in data2.iterrows():\n",
    "    if row['plfuelct'] in plant_typesplotting:\n",
    "        data2.at[index, 'plant_type'] = row['plfuelct']\n",
    "\n",
    "data2['total_generation'] = data2[RenewableGeneration] + data2[NonRenewableGeneration]\n",
    "data2['total_generation_year'] = data2.groupby('year')['total_generation'].transform('sum')\n",
    "\n",
    "counts = data2.groupby(['year', 'plant_type'])['total_generation'].\\\n",
    "sum().reset_index(name='total_generation_plant_type')\n",
    "counts['percentage'] = (counts['total_generation_plant_type'] / \\\n",
    "                        counts.groupby('year')['total_generation_plant_type'].transform('sum')) * 100\n",
    "\n",
    "\n"
   ]
  },
  {
   "cell_type": "code",
   "execution_count": 24,
   "id": "a87b6ebb-ffa9-4cc6-82ef-0a002d151c11",
   "metadata": {},
   "outputs": [
    {
     "data": {
      "text/html": [
       "<div>\n",
       "<style scoped>\n",
       "    .dataframe tbody tr th:only-of-type {\n",
       "        vertical-align: middle;\n",
       "    }\n",
       "\n",
       "    .dataframe tbody tr th {\n",
       "        vertical-align: top;\n",
       "    }\n",
       "\n",
       "    .dataframe thead th {\n",
       "        text-align: right;\n",
       "    }\n",
       "</style>\n",
       "<table border=\"1\" class=\"dataframe\">\n",
       "  <thead>\n",
       "    <tr style=\"text-align: right;\">\n",
       "      <th></th>\n",
       "      <th>year</th>\n",
       "      <th>plant_type</th>\n",
       "      <th>total_generation_plant_type</th>\n",
       "      <th>percentage</th>\n",
       "    </tr>\n",
       "  </thead>\n",
       "  <tbody>\n",
       "    <tr>\n",
       "      <th>0</th>\n",
       "      <td>2004</td>\n",
       "      <td>COAL</td>\n",
       "      <td>2.051983e+09</td>\n",
       "      <td>52.145999</td>\n",
       "    </tr>\n",
       "    <tr>\n",
       "      <th>1</th>\n",
       "      <td>2004</td>\n",
       "      <td>GAS</td>\n",
       "      <td>6.495443e+08</td>\n",
       "      <td>16.506544</td>\n",
       "    </tr>\n",
       "    <tr>\n",
       "      <th>2</th>\n",
       "      <td>2004</td>\n",
       "      <td>OTHER SOURCES</td>\n",
       "      <td>1.233545e+09</td>\n",
       "      <td>31.347457</td>\n",
       "    </tr>\n",
       "    <tr>\n",
       "      <th>3</th>\n",
       "      <td>2005</td>\n",
       "      <td>COAL</td>\n",
       "      <td>2.074026e+09</td>\n",
       "      <td>51.129192</td>\n",
       "    </tr>\n",
       "    <tr>\n",
       "      <th>4</th>\n",
       "      <td>2005</td>\n",
       "      <td>GAS</td>\n",
       "      <td>7.282494e+08</td>\n",
       "      <td>17.952910</td>\n",
       "    </tr>\n",
       "    <tr>\n",
       "      <th>5</th>\n",
       "      <td>2005</td>\n",
       "      <td>OTHER SOURCES</td>\n",
       "      <td>1.254167e+09</td>\n",
       "      <td>30.917898</td>\n",
       "    </tr>\n",
       "    <tr>\n",
       "      <th>6</th>\n",
       "      <td>2007</td>\n",
       "      <td>COAL</td>\n",
       "      <td>2.071651e+09</td>\n",
       "      <td>49.786115</td>\n",
       "    </tr>\n",
       "    <tr>\n",
       "      <th>7</th>\n",
       "      <td>2007</td>\n",
       "      <td>GAS</td>\n",
       "      <td>8.944949e+08</td>\n",
       "      <td>21.496586</td>\n",
       "    </tr>\n",
       "    <tr>\n",
       "      <th>8</th>\n",
       "      <td>2007</td>\n",
       "      <td>OTHER SOURCES</td>\n",
       "      <td>1.194956e+09</td>\n",
       "      <td>28.717300</td>\n",
       "    </tr>\n",
       "    <tr>\n",
       "      <th>9</th>\n",
       "      <td>2009</td>\n",
       "      <td>COAL</td>\n",
       "      <td>1.803765e+09</td>\n",
       "      <td>45.652241</td>\n",
       "    </tr>\n",
       "    <tr>\n",
       "      <th>10</th>\n",
       "      <td>2009</td>\n",
       "      <td>GAS</td>\n",
       "      <td>9.159744e+08</td>\n",
       "      <td>23.182782</td>\n",
       "    </tr>\n",
       "    <tr>\n",
       "      <th>11</th>\n",
       "      <td>2009</td>\n",
       "      <td>OTHER SOURCES</td>\n",
       "      <td>1.231359e+09</td>\n",
       "      <td>31.164977</td>\n",
       "    </tr>\n",
       "    <tr>\n",
       "      <th>12</th>\n",
       "      <td>2010</td>\n",
       "      <td>COAL</td>\n",
       "      <td>1.893711e+09</td>\n",
       "      <td>45.898719</td>\n",
       "    </tr>\n",
       "    <tr>\n",
       "      <th>13</th>\n",
       "      <td>2010</td>\n",
       "      <td>GAS</td>\n",
       "      <td>9.775777e+08</td>\n",
       "      <td>23.693988</td>\n",
       "    </tr>\n",
       "    <tr>\n",
       "      <th>14</th>\n",
       "      <td>2010</td>\n",
       "      <td>OTHER SOURCES</td>\n",
       "      <td>1.254558e+09</td>\n",
       "      <td>30.407294</td>\n",
       "    </tr>\n",
       "    <tr>\n",
       "      <th>15</th>\n",
       "      <td>2012</td>\n",
       "      <td>COAL</td>\n",
       "      <td>1.546841e+09</td>\n",
       "      <td>38.235912</td>\n",
       "    </tr>\n",
       "    <tr>\n",
       "      <th>16</th>\n",
       "      <td>2012</td>\n",
       "      <td>GAS</td>\n",
       "      <td>1.217553e+09</td>\n",
       "      <td>30.096353</td>\n",
       "    </tr>\n",
       "    <tr>\n",
       "      <th>17</th>\n",
       "      <td>2012</td>\n",
       "      <td>OTHER SOURCES</td>\n",
       "      <td>1.281124e+09</td>\n",
       "      <td>31.667735</td>\n",
       "    </tr>\n",
       "    <tr>\n",
       "      <th>18</th>\n",
       "      <td>2014</td>\n",
       "      <td>COAL</td>\n",
       "      <td>1.613262e+09</td>\n",
       "      <td>39.460969</td>\n",
       "    </tr>\n",
       "    <tr>\n",
       "      <th>19</th>\n",
       "      <td>2014</td>\n",
       "      <td>GAS</td>\n",
       "      <td>1.081109e+09</td>\n",
       "      <td>26.444309</td>\n",
       "    </tr>\n",
       "    <tr>\n",
       "      <th>20</th>\n",
       "      <td>2014</td>\n",
       "      <td>NUCLEAR</td>\n",
       "      <td>8.034915e+08</td>\n",
       "      <td>19.653695</td>\n",
       "    </tr>\n",
       "    <tr>\n",
       "      <th>21</th>\n",
       "      <td>2014</td>\n",
       "      <td>OTHER SOURCES</td>\n",
       "      <td>3.923443e+08</td>\n",
       "      <td>9.596885</td>\n",
       "    </tr>\n",
       "    <tr>\n",
       "      <th>22</th>\n",
       "      <td>2014</td>\n",
       "      <td>SOLAR</td>\n",
       "      <td>1.685369e+07</td>\n",
       "      <td>0.412247</td>\n",
       "    </tr>\n",
       "    <tr>\n",
       "      <th>23</th>\n",
       "      <td>2014</td>\n",
       "      <td>WIND</td>\n",
       "      <td>1.811867e+08</td>\n",
       "      <td>4.431894</td>\n",
       "    </tr>\n",
       "    <tr>\n",
       "      <th>24</th>\n",
       "      <td>2016</td>\n",
       "      <td>COAL</td>\n",
       "      <td>1.276914e+09</td>\n",
       "      <td>31.330037</td>\n",
       "    </tr>\n",
       "    <tr>\n",
       "      <th>25</th>\n",
       "      <td>2016</td>\n",
       "      <td>GAS</td>\n",
       "      <td>1.314956e+09</td>\n",
       "      <td>32.263440</td>\n",
       "    </tr>\n",
       "    <tr>\n",
       "      <th>26</th>\n",
       "      <td>2016</td>\n",
       "      <td>NUCLEAR</td>\n",
       "      <td>8.124758e+08</td>\n",
       "      <td>19.934704</td>\n",
       "    </tr>\n",
       "    <tr>\n",
       "      <th>27</th>\n",
       "      <td>2016</td>\n",
       "      <td>OTHER SOURCES</td>\n",
       "      <td>4.091559e+08</td>\n",
       "      <td>10.038947</td>\n",
       "    </tr>\n",
       "    <tr>\n",
       "      <th>28</th>\n",
       "      <td>2016</td>\n",
       "      <td>SOLAR</td>\n",
       "      <td>3.535478e+07</td>\n",
       "      <td>0.867456</td>\n",
       "    </tr>\n",
       "    <tr>\n",
       "      <th>29</th>\n",
       "      <td>2016</td>\n",
       "      <td>WIND</td>\n",
       "      <td>2.268288e+08</td>\n",
       "      <td>5.565416</td>\n",
       "    </tr>\n",
       "    <tr>\n",
       "      <th>30</th>\n",
       "      <td>2018</td>\n",
       "      <td>COAL</td>\n",
       "      <td>1.199055e+09</td>\n",
       "      <td>28.765604</td>\n",
       "    </tr>\n",
       "    <tr>\n",
       "      <th>31</th>\n",
       "      <td>2018</td>\n",
       "      <td>GAS</td>\n",
       "      <td>1.397624e+09</td>\n",
       "      <td>33.529305</td>\n",
       "    </tr>\n",
       "    <tr>\n",
       "      <th>32</th>\n",
       "      <td>2018</td>\n",
       "      <td>NUCLEAR</td>\n",
       "      <td>8.131580e+08</td>\n",
       "      <td>19.507839</td>\n",
       "    </tr>\n",
       "    <tr>\n",
       "      <th>33</th>\n",
       "      <td>2018</td>\n",
       "      <td>OTHER SOURCES</td>\n",
       "      <td>4.230515e+08</td>\n",
       "      <td>10.149100</td>\n",
       "    </tr>\n",
       "    <tr>\n",
       "      <th>34</th>\n",
       "      <td>2018</td>\n",
       "      <td>SOLAR</td>\n",
       "      <td>6.300084e+07</td>\n",
       "      <td>1.511404</td>\n",
       "    </tr>\n",
       "    <tr>\n",
       "      <th>35</th>\n",
       "      <td>2018</td>\n",
       "      <td>WIND</td>\n",
       "      <td>2.724755e+08</td>\n",
       "      <td>6.536748</td>\n",
       "    </tr>\n",
       "    <tr>\n",
       "      <th>36</th>\n",
       "      <td>2019</td>\n",
       "      <td>COAL</td>\n",
       "      <td>1.017785e+09</td>\n",
       "      <td>24.583071</td>\n",
       "    </tr>\n",
       "    <tr>\n",
       "      <th>37</th>\n",
       "      <td>2019</td>\n",
       "      <td>GAS</td>\n",
       "      <td>1.527663e+09</td>\n",
       "      <td>36.898412</td>\n",
       "    </tr>\n",
       "    <tr>\n",
       "      <th>38</th>\n",
       "      <td>2019</td>\n",
       "      <td>NUCLEAR</td>\n",
       "      <td>8.145370e+08</td>\n",
       "      <td>19.673922</td>\n",
       "    </tr>\n",
       "    <tr>\n",
       "      <th>39</th>\n",
       "      <td>2019</td>\n",
       "      <td>OTHER SOURCES</td>\n",
       "      <td>4.128951e+08</td>\n",
       "      <td>9.972864</td>\n",
       "    </tr>\n",
       "    <tr>\n",
       "      <th>40</th>\n",
       "      <td>2019</td>\n",
       "      <td>SOLAR</td>\n",
       "      <td>7.164244e+07</td>\n",
       "      <td>1.730416</td>\n",
       "    </tr>\n",
       "    <tr>\n",
       "      <th>41</th>\n",
       "      <td>2019</td>\n",
       "      <td>WIND</td>\n",
       "      <td>2.956637e+08</td>\n",
       "      <td>7.141315</td>\n",
       "    </tr>\n",
       "    <tr>\n",
       "      <th>42</th>\n",
       "      <td>2020</td>\n",
       "      <td>COAL</td>\n",
       "      <td>8.221217e+08</td>\n",
       "      <td>20.442909</td>\n",
       "    </tr>\n",
       "    <tr>\n",
       "      <th>43</th>\n",
       "      <td>2020</td>\n",
       "      <td>GAS</td>\n",
       "      <td>1.563173e+09</td>\n",
       "      <td>38.869921</td>\n",
       "    </tr>\n",
       "    <tr>\n",
       "      <th>44</th>\n",
       "      <td>2020</td>\n",
       "      <td>NUCLEAR</td>\n",
       "      <td>7.962636e+08</td>\n",
       "      <td>19.799920</td>\n",
       "    </tr>\n",
       "    <tr>\n",
       "      <th>45</th>\n",
       "      <td>2020</td>\n",
       "      <td>OTHER SOURCES</td>\n",
       "      <td>4.133336e+08</td>\n",
       "      <td>10.277968</td>\n",
       "    </tr>\n",
       "    <tr>\n",
       "      <th>46</th>\n",
       "      <td>2020</td>\n",
       "      <td>SOLAR</td>\n",
       "      <td>8.896904e+07</td>\n",
       "      <td>2.212308</td>\n",
       "    </tr>\n",
       "    <tr>\n",
       "      <th>47</th>\n",
       "      <td>2020</td>\n",
       "      <td>WIND</td>\n",
       "      <td>3.376885e+08</td>\n",
       "      <td>8.396975</td>\n",
       "    </tr>\n",
       "    <tr>\n",
       "      <th>48</th>\n",
       "      <td>2021</td>\n",
       "      <td>COAL</td>\n",
       "      <td>9.606379e+08</td>\n",
       "      <td>23.315635</td>\n",
       "    </tr>\n",
       "    <tr>\n",
       "      <th>49</th>\n",
       "      <td>2021</td>\n",
       "      <td>GAS</td>\n",
       "      <td>1.517449e+09</td>\n",
       "      <td>36.829993</td>\n",
       "    </tr>\n",
       "    <tr>\n",
       "      <th>50</th>\n",
       "      <td>2021</td>\n",
       "      <td>NUCLEAR</td>\n",
       "      <td>7.836240e+08</td>\n",
       "      <td>19.019333</td>\n",
       "    </tr>\n",
       "    <tr>\n",
       "      <th>51</th>\n",
       "      <td>2021</td>\n",
       "      <td>OTHER SOURCES</td>\n",
       "      <td>3.656525e+08</td>\n",
       "      <td>8.874749</td>\n",
       "    </tr>\n",
       "    <tr>\n",
       "      <th>52</th>\n",
       "      <td>2021</td>\n",
       "      <td>SOLAR</td>\n",
       "      <td>1.146000e+08</td>\n",
       "      <td>2.781456</td>\n",
       "    </tr>\n",
       "    <tr>\n",
       "      <th>53</th>\n",
       "      <td>2021</td>\n",
       "      <td>WIND</td>\n",
       "      <td>3.781812e+08</td>\n",
       "      <td>9.178834</td>\n",
       "    </tr>\n",
       "    <tr>\n",
       "      <th>54</th>\n",
       "      <td>2022</td>\n",
       "      <td>COAL</td>\n",
       "      <td>8.793948e+08</td>\n",
       "      <td>20.739757</td>\n",
       "    </tr>\n",
       "    <tr>\n",
       "      <th>55</th>\n",
       "      <td>2022</td>\n",
       "      <td>GAS</td>\n",
       "      <td>1.641984e+09</td>\n",
       "      <td>38.724756</td>\n",
       "    </tr>\n",
       "    <tr>\n",
       "      <th>56</th>\n",
       "      <td>2022</td>\n",
       "      <td>NUCLEAR</td>\n",
       "      <td>7.778521e+08</td>\n",
       "      <td>18.344960</td>\n",
       "    </tr>\n",
       "    <tr>\n",
       "      <th>57</th>\n",
       "      <td>2022</td>\n",
       "      <td>OTHER SOURCES</td>\n",
       "      <td>3.667946e+08</td>\n",
       "      <td>8.650528</td>\n",
       "    </tr>\n",
       "    <tr>\n",
       "      <th>58</th>\n",
       "      <td>2022</td>\n",
       "      <td>SOLAR</td>\n",
       "      <td>1.415712e+08</td>\n",
       "      <td>3.338832</td>\n",
       "    </tr>\n",
       "    <tr>\n",
       "      <th>59</th>\n",
       "      <td>2022</td>\n",
       "      <td>WIND</td>\n",
       "      <td>4.325438e+08</td>\n",
       "      <td>10.201167</td>\n",
       "    </tr>\n",
       "  </tbody>\n",
       "</table>\n",
       "</div>"
      ],
      "text/plain": [
       "    year     plant_type  total_generation_plant_type  percentage\n",
       "0   2004           COAL                 2.051983e+09   52.145999\n",
       "1   2004            GAS                 6.495443e+08   16.506544\n",
       "2   2004  OTHER SOURCES                 1.233545e+09   31.347457\n",
       "3   2005           COAL                 2.074026e+09   51.129192\n",
       "4   2005            GAS                 7.282494e+08   17.952910\n",
       "5   2005  OTHER SOURCES                 1.254167e+09   30.917898\n",
       "6   2007           COAL                 2.071651e+09   49.786115\n",
       "7   2007            GAS                 8.944949e+08   21.496586\n",
       "8   2007  OTHER SOURCES                 1.194956e+09   28.717300\n",
       "9   2009           COAL                 1.803765e+09   45.652241\n",
       "10  2009            GAS                 9.159744e+08   23.182782\n",
       "11  2009  OTHER SOURCES                 1.231359e+09   31.164977\n",
       "12  2010           COAL                 1.893711e+09   45.898719\n",
       "13  2010            GAS                 9.775777e+08   23.693988\n",
       "14  2010  OTHER SOURCES                 1.254558e+09   30.407294\n",
       "15  2012           COAL                 1.546841e+09   38.235912\n",
       "16  2012            GAS                 1.217553e+09   30.096353\n",
       "17  2012  OTHER SOURCES                 1.281124e+09   31.667735\n",
       "18  2014           COAL                 1.613262e+09   39.460969\n",
       "19  2014            GAS                 1.081109e+09   26.444309\n",
       "20  2014        NUCLEAR                 8.034915e+08   19.653695\n",
       "21  2014  OTHER SOURCES                 3.923443e+08    9.596885\n",
       "22  2014          SOLAR                 1.685369e+07    0.412247\n",
       "23  2014           WIND                 1.811867e+08    4.431894\n",
       "24  2016           COAL                 1.276914e+09   31.330037\n",
       "25  2016            GAS                 1.314956e+09   32.263440\n",
       "26  2016        NUCLEAR                 8.124758e+08   19.934704\n",
       "27  2016  OTHER SOURCES                 4.091559e+08   10.038947\n",
       "28  2016          SOLAR                 3.535478e+07    0.867456\n",
       "29  2016           WIND                 2.268288e+08    5.565416\n",
       "30  2018           COAL                 1.199055e+09   28.765604\n",
       "31  2018            GAS                 1.397624e+09   33.529305\n",
       "32  2018        NUCLEAR                 8.131580e+08   19.507839\n",
       "33  2018  OTHER SOURCES                 4.230515e+08   10.149100\n",
       "34  2018          SOLAR                 6.300084e+07    1.511404\n",
       "35  2018           WIND                 2.724755e+08    6.536748\n",
       "36  2019           COAL                 1.017785e+09   24.583071\n",
       "37  2019            GAS                 1.527663e+09   36.898412\n",
       "38  2019        NUCLEAR                 8.145370e+08   19.673922\n",
       "39  2019  OTHER SOURCES                 4.128951e+08    9.972864\n",
       "40  2019          SOLAR                 7.164244e+07    1.730416\n",
       "41  2019           WIND                 2.956637e+08    7.141315\n",
       "42  2020           COAL                 8.221217e+08   20.442909\n",
       "43  2020            GAS                 1.563173e+09   38.869921\n",
       "44  2020        NUCLEAR                 7.962636e+08   19.799920\n",
       "45  2020  OTHER SOURCES                 4.133336e+08   10.277968\n",
       "46  2020          SOLAR                 8.896904e+07    2.212308\n",
       "47  2020           WIND                 3.376885e+08    8.396975\n",
       "48  2021           COAL                 9.606379e+08   23.315635\n",
       "49  2021            GAS                 1.517449e+09   36.829993\n",
       "50  2021        NUCLEAR                 7.836240e+08   19.019333\n",
       "51  2021  OTHER SOURCES                 3.656525e+08    8.874749\n",
       "52  2021          SOLAR                 1.146000e+08    2.781456\n",
       "53  2021           WIND                 3.781812e+08    9.178834\n",
       "54  2022           COAL                 8.793948e+08   20.739757\n",
       "55  2022            GAS                 1.641984e+09   38.724756\n",
       "56  2022        NUCLEAR                 7.778521e+08   18.344960\n",
       "57  2022  OTHER SOURCES                 3.667946e+08    8.650528\n",
       "58  2022          SOLAR                 1.415712e+08    3.338832\n",
       "59  2022           WIND                 4.325438e+08   10.201167"
      ]
     },
     "execution_count": 24,
     "metadata": {},
     "output_type": "execute_result"
    }
   ],
   "source": [
    "counts\n"
   ]
  },
  {
   "cell_type": "code",
   "execution_count": 26,
   "id": "c1e6aa1b-009b-4a5b-a807-504ec4dfc13a",
   "metadata": {},
   "outputs": [
    {
     "data": {
      "application/vnd.plotly.v1+json": {
       "config": {
        "plotlyServerURL": "https://plot.ly"
       },
       "data": [
        {
         "hovertemplate": "plant_type=GAS<br>year=%{x}<br>percentage=%{y}<extra></extra>",
         "legendgroup": "GAS",
         "line": {
          "color": "#3366CC",
          "dash": "solid",
          "shape": "linear"
         },
         "marker": {
          "symbol": "circle"
         },
         "mode": "lines+markers",
         "name": "GAS",
         "orientation": "v",
         "showlegend": true,
         "type": "scatter",
         "x": [
          2004,
          2005,
          2007,
          2009,
          2010,
          2012,
          2014,
          2016,
          2018,
          2019,
          2020,
          2021,
          2022
         ],
         "xaxis": "x",
         "y": [
          16.50654371412516,
          17.9529100115133,
          21.496585795281533,
          23.182782255667124,
          23.69398751475931,
          30.09635303759925,
          26.444309467748482,
          32.263440412677625,
          33.52930512642375,
          36.89841232064614,
          38.8699208468583,
          36.82999328736051,
          38.7247561778057
         ],
         "yaxis": "y"
        },
        {
         "hovertemplate": "plant_type=NUCLEAR<br>year=%{x}<br>percentage=%{y}<extra></extra>",
         "legendgroup": "NUCLEAR",
         "line": {
          "color": "#DC3912",
          "dash": "solid",
          "shape": "linear"
         },
         "marker": {
          "symbol": "circle"
         },
         "mode": "lines+markers",
         "name": "NUCLEAR",
         "orientation": "v",
         "showlegend": true,
         "type": "scatter",
         "x": [
          2014,
          2016,
          2018,
          2019,
          2020,
          2021,
          2022
         ],
         "xaxis": "x",
         "y": [
          19.653695216703852,
          19.93470381230714,
          19.507839299176602,
          19.673922410335386,
          19.799919752248492,
          19.019332608978235,
          18.344959825752603
         ],
         "yaxis": "y"
        },
        {
         "hovertemplate": "plant_type=COAL<br>year=%{x}<br>percentage=%{y}<extra></extra>",
         "legendgroup": "COAL",
         "line": {
          "color": "#FF9900",
          "dash": "solid",
          "shape": "linear"
         },
         "marker": {
          "symbol": "circle"
         },
         "mode": "lines+markers",
         "name": "COAL",
         "orientation": "v",
         "showlegend": true,
         "type": "scatter",
         "x": [
          2004,
          2005,
          2007,
          2009,
          2010,
          2012,
          2014,
          2016,
          2018,
          2019,
          2020,
          2021,
          2022
         ],
         "xaxis": "x",
         "y": [
          52.145999443907165,
          51.12919180469883,
          49.78611468929886,
          45.65224121494913,
          45.89871887292267,
          38.23591225182762,
          39.460969473977656,
          31.330037091321554,
          28.765603876592255,
          24.583070605156802,
          20.442909489220437,
          23.315635301513513,
          20.739756978703742
         ],
         "yaxis": "y"
        },
        {
         "hovertemplate": "plant_type=WIND<br>year=%{x}<br>percentage=%{y}<extra></extra>",
         "legendgroup": "WIND",
         "line": {
          "color": "#109618",
          "dash": "solid",
          "shape": "linear"
         },
         "marker": {
          "symbol": "circle"
         },
         "mode": "lines+markers",
         "name": "WIND",
         "orientation": "v",
         "showlegend": true,
         "type": "scatter",
         "x": [
          2014,
          2016,
          2018,
          2019,
          2020,
          2021,
          2022
         ],
         "xaxis": "x",
         "y": [
          4.431893512198108,
          5.565416113048034,
          6.536748024787044,
          7.141314793134301,
          8.396974665661846,
          9.178833512294444,
          10.201166858106081
         ],
         "yaxis": "y"
        },
        {
         "hovertemplate": "plant_type=SOLAR<br>year=%{x}<br>percentage=%{y}<extra></extra>",
         "legendgroup": "SOLAR",
         "line": {
          "color": "#990099",
          "dash": "solid",
          "shape": "linear"
         },
         "marker": {
          "symbol": "circle"
         },
         "mode": "lines+markers",
         "name": "SOLAR",
         "orientation": "v",
         "showlegend": true,
         "type": "scatter",
         "x": [
          2014,
          2016,
          2018,
          2019,
          2020,
          2021,
          2022
         ],
         "xaxis": "x",
         "y": [
          0.4122473408251123,
          0.867456008875892,
          1.5114039261619236,
          1.7304160913560511,
          2.2123075751770505,
          2.781456305822264,
          3.3388319992061106
         ],
         "yaxis": "y"
        },
        {
         "hovertemplate": "plant_type=OTHER SOURCES<br>year=%{x}<br>percentage=%{y}<extra></extra>",
         "legendgroup": "OTHER SOURCES",
         "line": {
          "color": "#0099C6",
          "dash": "solid",
          "shape": "linear"
         },
         "marker": {
          "symbol": "circle"
         },
         "mode": "lines+markers",
         "name": "OTHER SOURCES",
         "orientation": "v",
         "showlegend": true,
         "type": "scatter",
         "x": [
          2004,
          2005,
          2007,
          2009,
          2010,
          2012,
          2014,
          2016,
          2018,
          2019,
          2020,
          2021,
          2022
         ],
         "xaxis": "x",
         "y": [
          31.34745684196767,
          30.91789818378788,
          28.717299515419615,
          31.164976529383736,
          30.40729361231802,
          31.667734710573132,
          9.5968849885468,
          10.03894656176975,
          10.14909974685843,
          9.972863779371322,
          10.277967670833869,
          8.874748984031042,
          8.65052816042577
         ],
         "yaxis": "y"
        }
       ],
       "layout": {
        "height": 600,
        "legend": {
         "title": {
          "text": "Plant Type"
         },
         "tracegroupgap": 0
        },
        "margin": {
         "t": 60
        },
        "plot_bgcolor": "white",
        "template": {
         "data": {
          "bar": [
           {
            "error_x": {
             "color": "#2a3f5f"
            },
            "error_y": {
             "color": "#2a3f5f"
            },
            "marker": {
             "line": {
              "color": "#E5ECF6",
              "width": 0.5
             },
             "pattern": {
              "fillmode": "overlay",
              "size": 10,
              "solidity": 0.2
             }
            },
            "type": "bar"
           }
          ],
          "barpolar": [
           {
            "marker": {
             "line": {
              "color": "#E5ECF6",
              "width": 0.5
             },
             "pattern": {
              "fillmode": "overlay",
              "size": 10,
              "solidity": 0.2
             }
            },
            "type": "barpolar"
           }
          ],
          "carpet": [
           {
            "aaxis": {
             "endlinecolor": "#2a3f5f",
             "gridcolor": "white",
             "linecolor": "white",
             "minorgridcolor": "white",
             "startlinecolor": "#2a3f5f"
            },
            "baxis": {
             "endlinecolor": "#2a3f5f",
             "gridcolor": "white",
             "linecolor": "white",
             "minorgridcolor": "white",
             "startlinecolor": "#2a3f5f"
            },
            "type": "carpet"
           }
          ],
          "choropleth": [
           {
            "colorbar": {
             "outlinewidth": 0,
             "ticks": ""
            },
            "type": "choropleth"
           }
          ],
          "contour": [
           {
            "colorbar": {
             "outlinewidth": 0,
             "ticks": ""
            },
            "colorscale": [
             [
              0,
              "#0d0887"
             ],
             [
              0.1111111111111111,
              "#46039f"
             ],
             [
              0.2222222222222222,
              "#7201a8"
             ],
             [
              0.3333333333333333,
              "#9c179e"
             ],
             [
              0.4444444444444444,
              "#bd3786"
             ],
             [
              0.5555555555555556,
              "#d8576b"
             ],
             [
              0.6666666666666666,
              "#ed7953"
             ],
             [
              0.7777777777777778,
              "#fb9f3a"
             ],
             [
              0.8888888888888888,
              "#fdca26"
             ],
             [
              1,
              "#f0f921"
             ]
            ],
            "type": "contour"
           }
          ],
          "contourcarpet": [
           {
            "colorbar": {
             "outlinewidth": 0,
             "ticks": ""
            },
            "type": "contourcarpet"
           }
          ],
          "heatmap": [
           {
            "colorbar": {
             "outlinewidth": 0,
             "ticks": ""
            },
            "colorscale": [
             [
              0,
              "#0d0887"
             ],
             [
              0.1111111111111111,
              "#46039f"
             ],
             [
              0.2222222222222222,
              "#7201a8"
             ],
             [
              0.3333333333333333,
              "#9c179e"
             ],
             [
              0.4444444444444444,
              "#bd3786"
             ],
             [
              0.5555555555555556,
              "#d8576b"
             ],
             [
              0.6666666666666666,
              "#ed7953"
             ],
             [
              0.7777777777777778,
              "#fb9f3a"
             ],
             [
              0.8888888888888888,
              "#fdca26"
             ],
             [
              1,
              "#f0f921"
             ]
            ],
            "type": "heatmap"
           }
          ],
          "heatmapgl": [
           {
            "colorbar": {
             "outlinewidth": 0,
             "ticks": ""
            },
            "colorscale": [
             [
              0,
              "#0d0887"
             ],
             [
              0.1111111111111111,
              "#46039f"
             ],
             [
              0.2222222222222222,
              "#7201a8"
             ],
             [
              0.3333333333333333,
              "#9c179e"
             ],
             [
              0.4444444444444444,
              "#bd3786"
             ],
             [
              0.5555555555555556,
              "#d8576b"
             ],
             [
              0.6666666666666666,
              "#ed7953"
             ],
             [
              0.7777777777777778,
              "#fb9f3a"
             ],
             [
              0.8888888888888888,
              "#fdca26"
             ],
             [
              1,
              "#f0f921"
             ]
            ],
            "type": "heatmapgl"
           }
          ],
          "histogram": [
           {
            "marker": {
             "pattern": {
              "fillmode": "overlay",
              "size": 10,
              "solidity": 0.2
             }
            },
            "type": "histogram"
           }
          ],
          "histogram2d": [
           {
            "colorbar": {
             "outlinewidth": 0,
             "ticks": ""
            },
            "colorscale": [
             [
              0,
              "#0d0887"
             ],
             [
              0.1111111111111111,
              "#46039f"
             ],
             [
              0.2222222222222222,
              "#7201a8"
             ],
             [
              0.3333333333333333,
              "#9c179e"
             ],
             [
              0.4444444444444444,
              "#bd3786"
             ],
             [
              0.5555555555555556,
              "#d8576b"
             ],
             [
              0.6666666666666666,
              "#ed7953"
             ],
             [
              0.7777777777777778,
              "#fb9f3a"
             ],
             [
              0.8888888888888888,
              "#fdca26"
             ],
             [
              1,
              "#f0f921"
             ]
            ],
            "type": "histogram2d"
           }
          ],
          "histogram2dcontour": [
           {
            "colorbar": {
             "outlinewidth": 0,
             "ticks": ""
            },
            "colorscale": [
             [
              0,
              "#0d0887"
             ],
             [
              0.1111111111111111,
              "#46039f"
             ],
             [
              0.2222222222222222,
              "#7201a8"
             ],
             [
              0.3333333333333333,
              "#9c179e"
             ],
             [
              0.4444444444444444,
              "#bd3786"
             ],
             [
              0.5555555555555556,
              "#d8576b"
             ],
             [
              0.6666666666666666,
              "#ed7953"
             ],
             [
              0.7777777777777778,
              "#fb9f3a"
             ],
             [
              0.8888888888888888,
              "#fdca26"
             ],
             [
              1,
              "#f0f921"
             ]
            ],
            "type": "histogram2dcontour"
           }
          ],
          "mesh3d": [
           {
            "colorbar": {
             "outlinewidth": 0,
             "ticks": ""
            },
            "type": "mesh3d"
           }
          ],
          "parcoords": [
           {
            "line": {
             "colorbar": {
              "outlinewidth": 0,
              "ticks": ""
             }
            },
            "type": "parcoords"
           }
          ],
          "pie": [
           {
            "automargin": true,
            "type": "pie"
           }
          ],
          "scatter": [
           {
            "fillpattern": {
             "fillmode": "overlay",
             "size": 10,
             "solidity": 0.2
            },
            "type": "scatter"
           }
          ],
          "scatter3d": [
           {
            "line": {
             "colorbar": {
              "outlinewidth": 0,
              "ticks": ""
             }
            },
            "marker": {
             "colorbar": {
              "outlinewidth": 0,
              "ticks": ""
             }
            },
            "type": "scatter3d"
           }
          ],
          "scattercarpet": [
           {
            "marker": {
             "colorbar": {
              "outlinewidth": 0,
              "ticks": ""
             }
            },
            "type": "scattercarpet"
           }
          ],
          "scattergeo": [
           {
            "marker": {
             "colorbar": {
              "outlinewidth": 0,
              "ticks": ""
             }
            },
            "type": "scattergeo"
           }
          ],
          "scattergl": [
           {
            "marker": {
             "colorbar": {
              "outlinewidth": 0,
              "ticks": ""
             }
            },
            "type": "scattergl"
           }
          ],
          "scattermapbox": [
           {
            "marker": {
             "colorbar": {
              "outlinewidth": 0,
              "ticks": ""
             }
            },
            "type": "scattermapbox"
           }
          ],
          "scatterpolar": [
           {
            "marker": {
             "colorbar": {
              "outlinewidth": 0,
              "ticks": ""
             }
            },
            "type": "scatterpolar"
           }
          ],
          "scatterpolargl": [
           {
            "marker": {
             "colorbar": {
              "outlinewidth": 0,
              "ticks": ""
             }
            },
            "type": "scatterpolargl"
           }
          ],
          "scatterternary": [
           {
            "marker": {
             "colorbar": {
              "outlinewidth": 0,
              "ticks": ""
             }
            },
            "type": "scatterternary"
           }
          ],
          "surface": [
           {
            "colorbar": {
             "outlinewidth": 0,
             "ticks": ""
            },
            "colorscale": [
             [
              0,
              "#0d0887"
             ],
             [
              0.1111111111111111,
              "#46039f"
             ],
             [
              0.2222222222222222,
              "#7201a8"
             ],
             [
              0.3333333333333333,
              "#9c179e"
             ],
             [
              0.4444444444444444,
              "#bd3786"
             ],
             [
              0.5555555555555556,
              "#d8576b"
             ],
             [
              0.6666666666666666,
              "#ed7953"
             ],
             [
              0.7777777777777778,
              "#fb9f3a"
             ],
             [
              0.8888888888888888,
              "#fdca26"
             ],
             [
              1,
              "#f0f921"
             ]
            ],
            "type": "surface"
           }
          ],
          "table": [
           {
            "cells": {
             "fill": {
              "color": "#EBF0F8"
             },
             "line": {
              "color": "white"
             }
            },
            "header": {
             "fill": {
              "color": "#C8D4E3"
             },
             "line": {
              "color": "white"
             }
            },
            "type": "table"
           }
          ]
         },
         "layout": {
          "annotationdefaults": {
           "arrowcolor": "#2a3f5f",
           "arrowhead": 0,
           "arrowwidth": 1
          },
          "autotypenumbers": "strict",
          "coloraxis": {
           "colorbar": {
            "outlinewidth": 0,
            "ticks": ""
           }
          },
          "colorscale": {
           "diverging": [
            [
             0,
             "#8e0152"
            ],
            [
             0.1,
             "#c51b7d"
            ],
            [
             0.2,
             "#de77ae"
            ],
            [
             0.3,
             "#f1b6da"
            ],
            [
             0.4,
             "#fde0ef"
            ],
            [
             0.5,
             "#f7f7f7"
            ],
            [
             0.6,
             "#e6f5d0"
            ],
            [
             0.7,
             "#b8e186"
            ],
            [
             0.8,
             "#7fbc41"
            ],
            [
             0.9,
             "#4d9221"
            ],
            [
             1,
             "#276419"
            ]
           ],
           "sequential": [
            [
             0,
             "#0d0887"
            ],
            [
             0.1111111111111111,
             "#46039f"
            ],
            [
             0.2222222222222222,
             "#7201a8"
            ],
            [
             0.3333333333333333,
             "#9c179e"
            ],
            [
             0.4444444444444444,
             "#bd3786"
            ],
            [
             0.5555555555555556,
             "#d8576b"
            ],
            [
             0.6666666666666666,
             "#ed7953"
            ],
            [
             0.7777777777777778,
             "#fb9f3a"
            ],
            [
             0.8888888888888888,
             "#fdca26"
            ],
            [
             1,
             "#f0f921"
            ]
           ],
           "sequentialminus": [
            [
             0,
             "#0d0887"
            ],
            [
             0.1111111111111111,
             "#46039f"
            ],
            [
             0.2222222222222222,
             "#7201a8"
            ],
            [
             0.3333333333333333,
             "#9c179e"
            ],
            [
             0.4444444444444444,
             "#bd3786"
            ],
            [
             0.5555555555555556,
             "#d8576b"
            ],
            [
             0.6666666666666666,
             "#ed7953"
            ],
            [
             0.7777777777777778,
             "#fb9f3a"
            ],
            [
             0.8888888888888888,
             "#fdca26"
            ],
            [
             1,
             "#f0f921"
            ]
           ]
          },
          "colorway": [
           "#636efa",
           "#EF553B",
           "#00cc96",
           "#ab63fa",
           "#FFA15A",
           "#19d3f3",
           "#FF6692",
           "#B6E880",
           "#FF97FF",
           "#FECB52"
          ],
          "font": {
           "color": "#2a3f5f"
          },
          "geo": {
           "bgcolor": "white",
           "lakecolor": "white",
           "landcolor": "#E5ECF6",
           "showlakes": true,
           "showland": true,
           "subunitcolor": "white"
          },
          "hoverlabel": {
           "align": "left"
          },
          "hovermode": "closest",
          "mapbox": {
           "style": "light"
          },
          "paper_bgcolor": "white",
          "plot_bgcolor": "#E5ECF6",
          "polar": {
           "angularaxis": {
            "gridcolor": "white",
            "linecolor": "white",
            "ticks": ""
           },
           "bgcolor": "#E5ECF6",
           "radialaxis": {
            "gridcolor": "white",
            "linecolor": "white",
            "ticks": ""
           }
          },
          "scene": {
           "xaxis": {
            "backgroundcolor": "#E5ECF6",
            "gridcolor": "white",
            "gridwidth": 2,
            "linecolor": "white",
            "showbackground": true,
            "ticks": "",
            "zerolinecolor": "white"
           },
           "yaxis": {
            "backgroundcolor": "#E5ECF6",
            "gridcolor": "white",
            "gridwidth": 2,
            "linecolor": "white",
            "showbackground": true,
            "ticks": "",
            "zerolinecolor": "white"
           },
           "zaxis": {
            "backgroundcolor": "#E5ECF6",
            "gridcolor": "white",
            "gridwidth": 2,
            "linecolor": "white",
            "showbackground": true,
            "ticks": "",
            "zerolinecolor": "white"
           }
          },
          "shapedefaults": {
           "line": {
            "color": "#2a3f5f"
           }
          },
          "ternary": {
           "aaxis": {
            "gridcolor": "white",
            "linecolor": "white",
            "ticks": ""
           },
           "baxis": {
            "gridcolor": "white",
            "linecolor": "white",
            "ticks": ""
           },
           "bgcolor": "#E5ECF6",
           "caxis": {
            "gridcolor": "white",
            "linecolor": "white",
            "ticks": ""
           }
          },
          "title": {
           "x": 0.05
          },
          "xaxis": {
           "automargin": true,
           "gridcolor": "white",
           "linecolor": "white",
           "ticks": "",
           "title": {
            "standoff": 15
           },
           "zerolinecolor": "white",
           "zerolinewidth": 2
          },
          "yaxis": {
           "automargin": true,
           "gridcolor": "white",
           "linecolor": "white",
           "ticks": "",
           "title": {
            "standoff": 15
           },
           "zerolinecolor": "white",
           "zerolinewidth": 2
          }
         }
        },
        "title": {
         "text": "Percentage of Total Plants for Each Plant Type Over the Years"
        },
        "width": 1100,
        "xaxis": {
         "anchor": "y",
         "autorange": true,
         "domain": [
          0,
          1
         ],
         "linecolor": "black",
         "linewidth": 2,
         "range": [
          2002.8999199359487,
          2023.1000800640513
         ],
         "showgrid": false,
         "showline": true,
         "showticklabels": true,
         "tickfont": {
          "color": "black",
          "family": "Arial",
          "size": 12
         },
         "ticks": "outside",
         "title": {
          "text": "Year"
         },
         "type": "linear"
        },
        "yaxis": {
         "anchor": "x",
         "autorange": true,
         "domain": [
          0,
          1
         ],
         "range": [
          -2.992126260054211,
          55.55037304478649
         ],
         "tickformat": "",
         "title": {
          "text": "Percentage of Total Plants"
         },
         "type": "linear"
        }
       }
      },
      "image/png": "[encoded data removed]",
      "text/html": [
       "<div>                            <div id=\"9697f2c4-9487-44d0-9c69-77cf8049e177\" class=\"plotly-graph-div\" style=\"height:600px; width:1100px;\"></div>            <script type=\"text/javascript\">                require([\"plotly\"], function(Plotly) {                    window.PLOTLYENV=window.PLOTLYENV || {};                                    if (document.getElementById(\"9697f2c4-9487-44d0-9c69-77cf8049e177\")) {                    Plotly.newPlot(                        \"9697f2c4-9487-44d0-9c69-77cf8049e177\",                        [{\"hovertemplate\":\"plant_type=GAS\\u003cbr\\u003eyear=%{x}\\u003cbr\\u003epercentage=%{y}\\u003cextra\\u003e\\u003c\\u002fextra\\u003e\",\"legendgroup\":\"GAS\",\"line\":{\"color\":\"#3366CC\",\"dash\":\"solid\",\"shape\":\"linear\"},\"marker\":{\"symbol\":\"circle\"},\"mode\":\"lines+markers\",\"name\":\"GAS\",\"orientation\":\"v\",\"showlegend\":true,\"x\":[2004,2005,2007,2009,2010,2012,2014,2016,2018,2019,2020,2021,2022],\"xaxis\":\"x\",\"y\":[16.50654371412516,17.9529100115133,21.496585795281533,23.182782255667124,23.69398751475931,30.09635303759925,26.444309467748482,32.263440412677625,33.52930512642375,36.89841232064614,38.8699208468583,36.82999328736051,38.7247561778057],\"yaxis\":\"y\",\"type\":\"scatter\"},{\"hovertemplate\":\"plant_type=NUCLEAR\\u003cbr\\u003eyear=%{x}\\u003cbr\\u003epercentage=%{y}\\u003cextra\\u003e\\u003c\\u002fextra\\u003e\",\"legendgroup\":\"NUCLEAR\",\"line\":{\"color\":\"#DC3912\",\"dash\":\"solid\",\"shape\":\"linear\"},\"marker\":{\"symbol\":\"circle\"},\"mode\":\"lines+markers\",\"name\":\"NUCLEAR\",\"orientation\":\"v\",\"showlegend\":true,\"x\":[2014,2016,2018,2019,2020,2021,2022],\"xaxis\":\"x\",\"y\":[19.653695216703852,19.93470381230714,19.507839299176602,19.673922410335386,19.799919752248492,19.019332608978235,18.344959825752603],\"yaxis\":\"y\",\"type\":\"scatter\"},{\"hovertemplate\":\"plant_type=COAL\\u003cbr\\u003eyear=%{x}\\u003cbr\\u003epercentage=%{y}\\u003cextra\\u003e\\u003c\\u002fextra\\u003e\",\"legendgroup\":\"COAL\",\"line\":{\"color\":\"#FF9900\",\"dash\":\"solid\",\"shape\":\"linear\"},\"marker\":{\"symbol\":\"circle\"},\"mode\":\"lines+markers\",\"name\":\"COAL\",\"orientation\":\"v\",\"showlegend\":true,\"x\":[2004,2005,2007,2009,2010,2012,2014,2016,2018,2019,2020,2021,2022],\"xaxis\":\"x\",\"y\":[52.145999443907165,51.12919180469883,49.78611468929886,45.65224121494913,45.89871887292267,38.23591225182762,39.460969473977656,31.330037091321554,28.765603876592255,24.583070605156802,20.442909489220437,23.315635301513513,20.739756978703742],\"yaxis\":\"y\",\"type\":\"scatter\"},{\"hovertemplate\":\"plant_type=WIND\\u003cbr\\u003eyear=%{x}\\u003cbr\\u003epercentage=%{y}\\u003cextra\\u003e\\u003c\\u002fextra\\u003e\",\"legendgroup\":\"WIND\",\"line\":{\"color\":\"#109618\",\"dash\":\"solid\",\"shape\":\"linear\"},\"marker\":{\"symbol\":\"circle\"},\"mode\":\"lines+markers\",\"name\":\"WIND\",\"orientation\":\"v\",\"showlegend\":true,\"x\":[2014,2016,2018,2019,2020,2021,2022],\"xaxis\":\"x\",\"y\":[4.431893512198108,5.565416113048034,6.536748024787044,7.141314793134301,8.396974665661846,9.178833512294444,10.201166858106081],\"yaxis\":\"y\",\"type\":\"scatter\"},{\"hovertemplate\":\"plant_type=SOLAR\\u003cbr\\u003eyear=%{x}\\u003cbr\\u003epercentage=%{y}\\u003cextra\\u003e\\u003c\\u002fextra\\u003e\",\"legendgroup\":\"SOLAR\",\"line\":{\"color\":\"#990099\",\"dash\":\"solid\",\"shape\":\"linear\"},\"marker\":{\"symbol\":\"circle\"},\"mode\":\"lines+markers\",\"name\":\"SOLAR\",\"orientation\":\"v\",\"showlegend\":true,\"x\":[2014,2016,2018,2019,2020,2021,2022],\"xaxis\":\"x\",\"y\":[0.4122473408251123,0.867456008875892,1.5114039261619236,1.7304160913560511,2.2123075751770505,2.781456305822264,3.3388319992061106],\"yaxis\":\"y\",\"type\":\"scatter\"},{\"hovertemplate\":\"plant_type=OTHER SOURCES\\u003cbr\\u003eyear=%{x}\\u003cbr\\u003epercentage=%{y}\\u003cextra\\u003e\\u003c\\u002fextra\\u003e\",\"legendgroup\":\"OTHER SOURCES\",\"line\":{\"color\":\"#0099C6\",\"dash\":\"solid\",\"shape\":\"linear\"},\"marker\":{\"symbol\":\"circle\"},\"mode\":\"lines+markers\",\"name\":\"OTHER SOURCES\",\"orientation\":\"v\",\"showlegend\":true,\"x\":[2004,2005,2007,2009,2010,2012,2014,2016,2018,2019,2020,2021,2022],\"xaxis\":\"x\",\"y\":[31.34745684196767,30.91789818378788,28.717299515419615,31.164976529383736,30.40729361231802,31.667734710573132,9.5968849885468,10.03894656176975,10.14909974685843,9.972863779371322,10.277967670833869,8.874748984031042,8.65052816042577],\"yaxis\":\"y\",\"type\":\"scatter\"}],                        {\"template\":{\"data\":{\"histogram2dcontour\":[{\"type\":\"histogram2dcontour\",\"colorbar\":{\"outlinewidth\":0,\"ticks\":\"\"},\"colorscale\":[[0.0,\"#0d0887\"],[0.1111111111111111,\"#46039f\"],[0.2222222222222222,\"#7201a8\"],[0.3333333333333333,\"#9c179e\"],[0.4444444444444444,\"#bd3786\"],[0.5555555555555556,\"#d8576b\"],[0.6666666666666666,\"#ed7953\"],[0.7777777777777778,\"#fb9f3a\"],[0.8888888888888888,\"#fdca26\"],[1.0,\"#f0f921\"]]}],\"choropleth\":[{\"type\":\"choropleth\",\"colorbar\":{\"outlinewidth\":0,\"ticks\":\"\"}}],\"histogram2d\":[{\"type\":\"histogram2d\",\"colorbar\":{\"outlinewidth\":0,\"ticks\":\"\"},\"colorscale\":[[0.0,\"#0d0887\"],[0.1111111111111111,\"#46039f\"],[0.2222222222222222,\"#7201a8\"],[0.3333333333333333,\"#9c179e\"],[0.4444444444444444,\"#bd3786\"],[0.5555555555555556,\"#d8576b\"],[0.6666666666666666,\"#ed7953\"],[0.7777777777777778,\"#fb9f3a\"],[0.8888888888888888,\"#fdca26\"],[1.0,\"#f0f921\"]]}],\"heatmap\":[{\"type\":\"heatmap\",\"colorbar\":{\"outlinewidth\":0,\"ticks\":\"\"},\"colorscale\":[[0.0,\"#0d0887\"],[0.1111111111111111,\"#46039f\"],[0.2222222222222222,\"#7201a8\"],[0.3333333333333333,\"#9c179e\"],[0.4444444444444444,\"#bd3786\"],[0.5555555555555556,\"#d8576b\"],[0.6666666666666666,\"#ed7953\"],[0.7777777777777778,\"#fb9f3a\"],[0.8888888888888888,\"#fdca26\"],[1.0,\"#f0f921\"]]}],\"heatmapgl\":[{\"type\":\"heatmapgl\",\"colorbar\":{\"outlinewidth\":0,\"ticks\":\"\"},\"colorscale\":[[0.0,\"#0d0887\"],[0.1111111111111111,\"#46039f\"],[0.2222222222222222,\"#7201a8\"],[0.3333333333333333,\"#9c179e\"],[0.4444444444444444,\"#bd3786\"],[0.5555555555555556,\"#d8576b\"],[0.6666666666666666,\"#ed7953\"],[0.7777777777777778,\"#fb9f3a\"],[0.8888888888888888,\"#fdca26\"],[1.0,\"#f0f921\"]]}],\"contourcarpet\":[{\"type\":\"contourcarpet\",\"colorbar\":{\"outlinewidth\":0,\"ticks\":\"\"}}],\"contour\":[{\"type\":\"contour\",\"colorbar\":{\"outlinewidth\":0,\"ticks\":\"\"},\"colorscale\":[[0.0,\"#0d0887\"],[0.1111111111111111,\"#46039f\"],[0.2222222222222222,\"#7201a8\"],[0.3333333333333333,\"#9c179e\"],[0.4444444444444444,\"#bd3786\"],[0.5555555555555556,\"#d8576b\"],[0.6666666666666666,\"#ed7953\"],[0.7777777777777778,\"#fb9f3a\"],[0.8888888888888888,\"#fdca26\"],[1.0,\"#f0f921\"]]}],\"surface\":[{\"type\":\"surface\",\"colorbar\":{\"outlinewidth\":0,\"ticks\":\"\"},\"colorscale\":[[0.0,\"#0d0887\"],[0.1111111111111111,\"#46039f\"],[0.2222222222222222,\"#7201a8\"],[0.3333333333333333,\"#9c179e\"],[0.4444444444444444,\"#bd3786\"],[0.5555555555555556,\"#d8576b\"],[0.6666666666666666,\"#ed7953\"],[0.7777777777777778,\"#fb9f3a\"],[0.8888888888888888,\"#fdca26\"],[1.0,\"#f0f921\"]]}],\"mesh3d\":[{\"type\":\"mesh3d\",\"colorbar\":{\"outlinewidth\":0,\"ticks\":\"\"}}],\"scatter\":[{\"fillpattern\":{\"fillmode\":\"overlay\",\"size\":10,\"solidity\":0.2},\"type\":\"scatter\"}],\"parcoords\":[{\"type\":\"parcoords\",\"line\":{\"colorbar\":{\"outlinewidth\":0,\"ticks\":\"\"}}}],\"scatterpolargl\":[{\"type\":\"scatterpolargl\",\"marker\":{\"colorbar\":{\"outlinewidth\":0,\"ticks\":\"\"}}}],\"bar\":[{\"error_x\":{\"color\":\"#2a3f5f\"},\"error_y\":{\"color\":\"#2a3f5f\"},\"marker\":{\"line\":{\"color\":\"#E5ECF6\",\"width\":0.5},\"pattern\":{\"fillmode\":\"overlay\",\"size\":10,\"solidity\":0.2}},\"type\":\"bar\"}],\"scattergeo\":[{\"type\":\"scattergeo\",\"marker\":{\"colorbar\":{\"outlinewidth\":0,\"ticks\":\"\"}}}],\"scatterpolar\":[{\"type\":\"scatterpolar\",\"marker\":{\"colorbar\":{\"outlinewidth\":0,\"ticks\":\"\"}}}],\"histogram\":[{\"marker\":{\"pattern\":{\"fillmode\":\"overlay\",\"size\":10,\"solidity\":0.2}},\"type\":\"histogram\"}],\"scattergl\":[{\"type\":\"scattergl\",\"marker\":{\"colorbar\":{\"outlinewidth\":0,\"ticks\":\"\"}}}],\"scatter3d\":[{\"type\":\"scatter3d\",\"line\":{\"colorbar\":{\"outlinewidth\":0,\"ticks\":\"\"}},\"marker\":{\"colorbar\":{\"outlinewidth\":0,\"ticks\":\"\"}}}],\"scattermapbox\":[{\"type\":\"scattermapbox\",\"marker\":{\"colorbar\":{\"outlinewidth\":0,\"ticks\":\"\"}}}],\"scatterternary\":[{\"type\":\"scatterternary\",\"marker\":{\"colorbar\":{\"outlinewidth\":0,\"ticks\":\"\"}}}],\"scattercarpet\":[{\"type\":\"scattercarpet\",\"marker\":{\"colorbar\":{\"outlinewidth\":0,\"ticks\":\"\"}}}],\"carpet\":[{\"aaxis\":{\"endlinecolor\":\"#2a3f5f\",\"gridcolor\":\"white\",\"linecolor\":\"white\",\"minorgridcolor\":\"white\",\"startlinecolor\":\"#2a3f5f\"},\"baxis\":{\"endlinecolor\":\"#2a3f5f\",\"gridcolor\":\"white\",\"linecolor\":\"white\",\"minorgridcolor\":\"white\",\"startlinecolor\":\"#2a3f5f\"},\"type\":\"carpet\"}],\"table\":[{\"cells\":{\"fill\":{\"color\":\"#EBF0F8\"},\"line\":{\"color\":\"white\"}},\"header\":{\"fill\":{\"color\":\"#C8D4E3\"},\"line\":{\"color\":\"white\"}},\"type\":\"table\"}],\"barpolar\":[{\"marker\":{\"line\":{\"color\":\"#E5ECF6\",\"width\":0.5},\"pattern\":{\"fillmode\":\"overlay\",\"size\":10,\"solidity\":0.2}},\"type\":\"barpolar\"}],\"pie\":[{\"automargin\":true,\"type\":\"pie\"}]},\"layout\":{\"autotypenumbers\":\"strict\",\"colorway\":[\"#636efa\",\"#EF553B\",\"#00cc96\",\"#ab63fa\",\"#FFA15A\",\"#19d3f3\",\"#FF6692\",\"#B6E880\",\"#FF97FF\",\"#FECB52\"],\"font\":{\"color\":\"#2a3f5f\"},\"hovermode\":\"closest\",\"hoverlabel\":{\"align\":\"left\"},\"paper_bgcolor\":\"white\",\"plot_bgcolor\":\"#E5ECF6\",\"polar\":{\"bgcolor\":\"#E5ECF6\",\"angularaxis\":{\"gridcolor\":\"white\",\"linecolor\":\"white\",\"ticks\":\"\"},\"radialaxis\":{\"gridcolor\":\"white\",\"linecolor\":\"white\",\"ticks\":\"\"}},\"ternary\":{\"bgcolor\":\"#E5ECF6\",\"aaxis\":{\"gridcolor\":\"white\",\"linecolor\":\"white\",\"ticks\":\"\"},\"baxis\":{\"gridcolor\":\"white\",\"linecolor\":\"white\",\"ticks\":\"\"},\"caxis\":{\"gridcolor\":\"white\",\"linecolor\":\"white\",\"ticks\":\"\"}},\"coloraxis\":{\"colorbar\":{\"outlinewidth\":0,\"ticks\":\"\"}},\"colorscale\":{\"sequential\":[[0.0,\"#0d0887\"],[0.1111111111111111,\"#46039f\"],[0.2222222222222222,\"#7201a8\"],[0.3333333333333333,\"#9c179e\"],[0.4444444444444444,\"#bd3786\"],[0.5555555555555556,\"#d8576b\"],[0.6666666666666666,\"#ed7953\"],[0.7777777777777778,\"#fb9f3a\"],[0.8888888888888888,\"#fdca26\"],[1.0,\"#f0f921\"]],\"sequentialminus\":[[0.0,\"#0d0887\"],[0.1111111111111111,\"#46039f\"],[0.2222222222222222,\"#7201a8\"],[0.3333333333333333,\"#9c179e\"],[0.4444444444444444,\"#bd3786\"],[0.5555555555555556,\"#d8576b\"],[0.6666666666666666,\"#ed7953\"],[0.7777777777777778,\"#fb9f3a\"],[0.8888888888888888,\"#fdca26\"],[1.0,\"#f0f921\"]],\"diverging\":[[0,\"#8e0152\"],[0.1,\"#c51b7d\"],[0.2,\"#de77ae\"],[0.3,\"#f1b6da\"],[0.4,\"#fde0ef\"],[0.5,\"#f7f7f7\"],[0.6,\"#e6f5d0\"],[0.7,\"#b8e186\"],[0.8,\"#7fbc41\"],[0.9,\"#4d9221\"],[1,\"#276419\"]]},\"xaxis\":{\"gridcolor\":\"white\",\"linecolor\":\"white\",\"ticks\":\"\",\"title\":{\"standoff\":15},\"zerolinecolor\":\"white\",\"automargin\":true,\"zerolinewidth\":2},\"yaxis\":{\"gridcolor\":\"white\",\"linecolor\":\"white\",\"ticks\":\"\",\"title\":{\"standoff\":15},\"zerolinecolor\":\"white\",\"automargin\":true,\"zerolinewidth\":2},\"scene\":{\"xaxis\":{\"backgroundcolor\":\"#E5ECF6\",\"gridcolor\":\"white\",\"linecolor\":\"white\",\"showbackground\":true,\"ticks\":\"\",\"zerolinecolor\":\"white\",\"gridwidth\":2},\"yaxis\":{\"backgroundcolor\":\"#E5ECF6\",\"gridcolor\":\"white\",\"linecolor\":\"white\",\"showbackground\":true,\"ticks\":\"\",\"zerolinecolor\":\"white\",\"gridwidth\":2},\"zaxis\":{\"backgroundcolor\":\"#E5ECF6\",\"gridcolor\":\"white\",\"linecolor\":\"white\",\"showbackground\":true,\"ticks\":\"\",\"zerolinecolor\":\"white\",\"gridwidth\":2}},\"shapedefaults\":{\"line\":{\"color\":\"#2a3f5f\"}},\"annotationdefaults\":{\"arrowcolor\":\"#2a3f5f\",\"arrowhead\":0,\"arrowwidth\":1},\"geo\":{\"bgcolor\":\"white\",\"landcolor\":\"#E5ECF6\",\"subunitcolor\":\"white\",\"showland\":true,\"showlakes\":true,\"lakecolor\":\"white\"},\"title\":{\"x\":0.05},\"mapbox\":{\"style\":\"light\"}}},\"xaxis\":{\"anchor\":\"y\",\"domain\":[0.0,1.0],\"title\":{\"text\":\"Year\"},\"tickfont\":{\"family\":\"Arial\",\"size\":12,\"color\":\"black\"},\"showline\":true,\"showgrid\":false,\"showticklabels\":true,\"linecolor\":\"black\",\"linewidth\":2,\"ticks\":\"outside\"},\"yaxis\":{\"anchor\":\"x\",\"domain\":[0.0,1.0],\"title\":{\"text\":\"Percentage of Total Plants\"},\"tickformat\":\"\"},\"legend\":{\"title\":{\"text\":\"Plant Type\"},\"tracegroupgap\":0},\"margin\":{\"t\":60},\"title\":{\"text\":\"Percentage of Total Plants for Each Plant Type Over the Years\"},\"plot_bgcolor\":\"white\",\"width\":1100,\"height\":600},                        {\"responsive\": true}                    ).then(function(){\n",
       "                            \n",
       "var gd = document.getElementById('9697f2c4-9487-44d0-9c69-77cf8049e177');\n",
       "var x = new MutationObserver(function (mutations, observer) {{\n",
       "        var display = window.getComputedStyle(gd).display;\n",
       "        if (!display || display === 'none') {{\n",
       "            console.log([gd, 'removed!']);\n",
       "            Plotly.purge(gd);\n",
       "            observer.disconnect();\n",
       "        }}\n",
       "}});\n",
       "\n",
       "// Listen for the removal of the full notebook cells\n",
       "var notebookContainer = gd.closest('#notebook-container');\n",
       "if (notebookContainer) {{\n",
       "    x.observe(notebookContainer, {childList: true});\n",
       "}}\n",
       "\n",
       "// Listen for the clearing of the current output cell\n",
       "var outputEl = gd.closest('.output');\n",
       "if (outputEl) {{\n",
       "    x.observe(outputEl, {childList: true});\n",
       "}}\n",
       "\n",
       "                        })                };                });            </script>        </div>"
      ]
     },
     "metadata": {},
     "output_type": "display_data"
    }
   ],
   "source": [
    "import plotly.express as px\n",
    "\n",
    "fig = px.line(counts, x='year', y='percentage', color='plant_type', markers=True, line_shape='linear',\n",
    "              category_orders={'plant_type': plant_typesplotting},\n",
    "              color_discrete_sequence=px.colors.qualitative.G10)\n",
    "\n",
    "fig.update_layout(title='Percentage of Total Plants for Each Plant Type Over the Years',\n",
    "                  xaxis_title='Year',\n",
    "                  yaxis_title='Percentage of Total Plants',\n",
    "                  legend_title='Plant Type',\n",
    "                  yaxis=dict(tickformat=\"\"),\n",
    "                  plot_bgcolor='white',\n",
    "                  xaxis=dict(\n",
    "                    showline=True,\n",
    "                    showgrid=False,\n",
    "                    showticklabels=True,\n",
    "                    linecolor='black',\n",
    "                    linewidth=2,\n",
    "                    ticks='outside',\n",
    "                    tickfont=dict(\n",
    "                        family='Arial',\n",
    "                        size=12,\n",
    "                        color='black',\n",
    "                    )),\n",
    "                    width=1100, \n",
    "                    height=600)\n",
    "\n",
    "fig.show()\n"
   ]
  },
  {
   "cell_type": "code",
   "execution_count": 27,
   "id": "b0185067-d867-4a25-9cc0-87c00bca7e21",
   "metadata": {},
   "outputs": [],
   "source": []
  },
  {
   "cell_type": "code",
   "execution_count": 28,
   "id": "c053c955-2c29-4ae1-84ff-bc813801085d",
   "metadata": {},
   "outputs": [
    {
     "data": {
      "text/html": [
       "<div>\n",
       "<style scoped>\n",
       "    .dataframe tbody tr th:only-of-type {\n",
       "        vertical-align: middle;\n",
       "    }\n",
       "\n",
       "    .dataframe tbody tr th {\n",
       "        vertical-align: top;\n",
       "    }\n",
       "\n",
       "    .dataframe thead th {\n",
       "        text-align: right;\n",
       "    }\n",
       "</style>\n",
       "<table border=\"1\" class=\"dataframe\">\n",
       "  <thead>\n",
       "    <tr style=\"text-align: right;\">\n",
       "      <th></th>\n",
       "      <th>year</th>\n",
       "      <th>state_id</th>\n",
       "      <th>plant_type</th>\n",
       "      <th>count</th>\n",
       "    </tr>\n",
       "  </thead>\n",
       "  <tbody>\n",
       "    <tr>\n",
       "      <th>0</th>\n",
       "      <td>2004</td>\n",
       "      <td>AK</td>\n",
       "      <td>COAL</td>\n",
       "      <td>5</td>\n",
       "    </tr>\n",
       "    <tr>\n",
       "      <th>1</th>\n",
       "      <td>2004</td>\n",
       "      <td>AK</td>\n",
       "      <td>GAS</td>\n",
       "      <td>9</td>\n",
       "    </tr>\n",
       "    <tr>\n",
       "      <th>2</th>\n",
       "      <td>2004</td>\n",
       "      <td>AK</td>\n",
       "      <td>OTHER SOURCES</td>\n",
       "      <td>89</td>\n",
       "    </tr>\n",
       "    <tr>\n",
       "      <th>3</th>\n",
       "      <td>2004</td>\n",
       "      <td>AL</td>\n",
       "      <td>COAL</td>\n",
       "      <td>15</td>\n",
       "    </tr>\n",
       "    <tr>\n",
       "      <th>4</th>\n",
       "      <td>2004</td>\n",
       "      <td>AL</td>\n",
       "      <td>GAS</td>\n",
       "      <td>23</td>\n",
       "    </tr>\n",
       "    <tr>\n",
       "      <th>...</th>\n",
       "      <td>...</td>\n",
       "      <td>...</td>\n",
       "      <td>...</td>\n",
       "      <td>...</td>\n",
       "    </tr>\n",
       "    <tr>\n",
       "      <th>2730</th>\n",
       "      <td>2022</td>\n",
       "      <td>WY</td>\n",
       "      <td>COAL</td>\n",
       "      <td>12</td>\n",
       "    </tr>\n",
       "    <tr>\n",
       "      <th>2731</th>\n",
       "      <td>2022</td>\n",
       "      <td>WY</td>\n",
       "      <td>GAS</td>\n",
       "      <td>8</td>\n",
       "    </tr>\n",
       "    <tr>\n",
       "      <th>2732</th>\n",
       "      <td>2022</td>\n",
       "      <td>WY</td>\n",
       "      <td>OTHER SOURCES</td>\n",
       "      <td>21</td>\n",
       "    </tr>\n",
       "    <tr>\n",
       "      <th>2733</th>\n",
       "      <td>2022</td>\n",
       "      <td>WY</td>\n",
       "      <td>SOLAR</td>\n",
       "      <td>1</td>\n",
       "    </tr>\n",
       "    <tr>\n",
       "      <th>2734</th>\n",
       "      <td>2022</td>\n",
       "      <td>WY</td>\n",
       "      <td>WIND</td>\n",
       "      <td>25</td>\n",
       "    </tr>\n",
       "  </tbody>\n",
       "</table>\n",
       "<p>2735 rows × 4 columns</p>\n",
       "</div>"
      ],
      "text/plain": [
       "      year state_id     plant_type  count\n",
       "0     2004       AK           COAL      5\n",
       "1     2004       AK            GAS      9\n",
       "2     2004       AK  OTHER SOURCES     89\n",
       "3     2004       AL           COAL     15\n",
       "4     2004       AL            GAS     23\n",
       "...    ...      ...            ...    ...\n",
       "2730  2022       WY           COAL     12\n",
       "2731  2022       WY            GAS      8\n",
       "2732  2022       WY  OTHER SOURCES     21\n",
       "2733  2022       WY          SOLAR      1\n",
       "2734  2022       WY           WIND     25\n",
       "\n",
       "[2735 rows x 4 columns]"
      ]
     },
     "execution_count": 28,
     "metadata": {},
     "output_type": "execute_result"
    }
   ],
   "source": [
    "grouped_data"
   ]
  },
  {
   "cell_type": "code",
   "execution_count": 34,
   "id": "959efdaf-9ff1-4614-ae44-bee190d3cc38",
   "metadata": {},
   "outputs": [
    {
     "data": {
      "application/vnd.plotly.v1+json": {
       "config": {
        "plotlyServerURL": "https://plot.ly"
       },
       "data": [
        {
         "branchvalues": "total",
         "customdata": [
          [
           5,
           5
          ],
          [
           15,
           15
          ],
          [
           4,
           4
          ],
          [
           7,
           7
          ],
          [
           8,
           8
          ],
          [
           14,
           14
          ],
          [
           3,
           3
          ],
          [
           4,
           4
          ],
          [
           16,
           16
          ],
          [
           20,
           20
          ],
          [
           3,
           3
          ],
          [
           28,
           28
          ],
          [
           2,
           2
          ],
          [
           32,
           32
          ],
          [
           30,
           30
          ],
          [
           8,
           8
          ],
          [
           20,
           20
          ],
          [
           6,
           6
          ],
          [
           6,
           6
          ],
          [
           9,
           9
          ],
          [
           2,
           2
          ],
          [
           33,
           33
          ],
          [
           22,
           22
          ],
          [
           24,
           24
          ],
          [
           6,
           6
          ],
          [
           4,
           4
          ],
          [
           29,
           29
          ],
          [
           10,
           10
          ],
          [
           8,
           8
          ],
          [
           2,
           2
          ],
          [
           7,
           7
          ],
          [
           4,
           4
          ],
          [
           3,
           3
          ],
          [
           15,
           15
          ],
          [
           36,
           36
          ],
          [
           7,
           7
          ],
          [
           2,
           2
          ],
          [
           43,
           43
          ],
          [
           18,
           18
          ],
          [
           2,
           2
          ],
          [
           14,
           14
          ],
          [
           19,
           19
          ],
          [
           7,
           7
          ],
          [
           24,
           24
          ],
          [
           3,
           3
          ],
          [
           31,
           31
          ],
          [
           19,
           19
          ],
          [
           11,
           11
          ]
         ],
         "domain": {
          "x": [
           0,
           1
          ],
          "y": [
           0,
           1
          ]
         },
         "hovertemplate": "labels=%{label}<br>count_sum=%{value}<br>parent=%{parent}<br>id=%{id}<br>count=%{color}<extra></extra>",
         "ids": [
          "AK",
          "AL",
          "AR",
          "AZ",
          "CA",
          "CO",
          "CT",
          "DE",
          "FL",
          "GA",
          "HI",
          "IA",
          "ID",
          "IL",
          "IN",
          "KS",
          "KY",
          "LA",
          "MA",
          "MD",
          "ME",
          "MI",
          "MN",
          "MO",
          "MS",
          "MT",
          "NC",
          "ND",
          "NE",
          "NH",
          "NJ",
          "NM",
          "NV",
          "NY",
          "OH",
          "OK",
          "OR",
          "PA",
          "SC",
          "SD",
          "TN",
          "TX",
          "UT",
          "VA",
          "WA",
          "WI",
          "WV",
          "WY"
         ],
         "labels": [
          "AK",
          "AL",
          "AR",
          "AZ",
          "CA",
          "CO",
          "CT",
          "DE",
          "FL",
          "GA",
          "HI",
          "IA",
          "ID",
          "IL",
          "IN",
          "KS",
          "KY",
          "LA",
          "MA",
          "MD",
          "ME",
          "MI",
          "MN",
          "MO",
          "MS",
          "MT",
          "NC",
          "ND",
          "NE",
          "NH",
          "NJ",
          "NM",
          "NV",
          "NY",
          "OH",
          "OK",
          "OR",
          "PA",
          "SC",
          "SD",
          "TN",
          "TX",
          "UT",
          "VA",
          "WA",
          "WI",
          "WV",
          "WY"
         ],
         "marker": {
          "coloraxis": "coloraxis",
          "colors": [
           5,
           15,
           4,
           7,
           8,
           14,
           3,
           4,
           16,
           20,
           3,
           28,
           2,
           32,
           30,
           8,
           20,
           6,
           6,
           9,
           2,
           33,
           22,
           24,
           6,
           4,
           29,
           10,
           8,
           2,
           7,
           4,
           3,
           15,
           36,
           7,
           2,
           43,
           18,
           2,
           14,
           19,
           7,
           24,
           3,
           31,
           19,
           11
          ]
         },
         "name": "",
         "parents": [
          "",
          "",
          "",
          "",
          "",
          "",
          "",
          "",
          "",
          "",
          "",
          "",
          "",
          "",
          "",
          "",
          "",
          "",
          "",
          "",
          "",
          "",
          "",
          "",
          "",
          "",
          "",
          "",
          "",
          "",
          "",
          "",
          "",
          "",
          "",
          "",
          "",
          "",
          "",
          "",
          "",
          "",
          "",
          "",
          "",
          "",
          "",
          ""
         ],
         "type": "treemap",
         "values": [
          5,
          15,
          4,
          7,
          8,
          14,
          3,
          4,
          16,
          20,
          3,
          28,
          2,
          32,
          30,
          8,
          20,
          6,
          6,
          9,
          2,
          33,
          22,
          24,
          6,
          4,
          29,
          10,
          8,
          2,
          7,
          4,
          3,
          15,
          36,
          7,
          2,
          43,
          18,
          2,
          14,
          19,
          7,
          24,
          3,
          31,
          19,
          11
         ]
        }
       ],
       "layout": {
        "annotations": [
         {
          "font": {
           "size": 25
          },
          "showarrow": true,
          "text": "Total: 645",
          "x": 0.5,
          "y": 0.92
         }
        ],
        "autosize": true,
        "coloraxis": {
         "colorbar": {
          "title": {
           "text": "count"
          }
         },
         "colorscale": [
          [
           0,
           "#440154"
          ],
          [
           0.1111111111111111,
           "#482878"
          ],
          [
           0.2222222222222222,
           "#3e4989"
          ],
          [
           0.3333333333333333,
           "#31688e"
          ],
          [
           0.4444444444444444,
           "#26828e"
          ],
          [
           0.5555555555555556,
           "#1f9e89"
          ],
          [
           0.6666666666666666,
           "#35b779"
          ],
          [
           0.7777777777777778,
           "#6ece58"
          ],
          [
           0.8888888888888888,
           "#b5de2b"
          ],
          [
           1,
           "#fde725"
          ]
         ]
        },
        "legend": {
         "tracegroupgap": 0
        },
        "template": {
         "data": {
          "bar": [
           {
            "error_x": {
             "color": "#2a3f5f"
            },
            "error_y": {
             "color": "#2a3f5f"
            },
            "marker": {
             "line": {
              "color": "#E5ECF6",
              "width": 0.5
             },
             "pattern": {
              "fillmode": "overlay",
              "size": 10,
              "solidity": 0.2
             }
            },
            "type": "bar"
           }
          ],
          "barpolar": [
           {
            "marker": {
             "line": {
              "color": "#E5ECF6",
              "width": 0.5
             },
             "pattern": {
              "fillmode": "overlay",
              "size": 10,
              "solidity": 0.2
             }
            },
            "type": "barpolar"
           }
          ],
          "carpet": [
           {
            "aaxis": {
             "endlinecolor": "#2a3f5f",
             "gridcolor": "white",
             "linecolor": "white",
             "minorgridcolor": "white",
             "startlinecolor": "#2a3f5f"
            },
            "baxis": {
             "endlinecolor": "#2a3f5f",
             "gridcolor": "white",
             "linecolor": "white",
             "minorgridcolor": "white",
             "startlinecolor": "#2a3f5f"
            },
            "type": "carpet"
           }
          ],
          "choropleth": [
           {
            "colorbar": {
             "outlinewidth": 0,
             "ticks": ""
            },
            "type": "choropleth"
           }
          ],
          "contour": [
           {
            "colorbar": {
             "outlinewidth": 0,
             "ticks": ""
            },
            "colorscale": [
             [
              0,
              "#0d0887"
             ],
             [
              0.1111111111111111,
              "#46039f"
             ],
             [
              0.2222222222222222,
              "#7201a8"
             ],
             [
              0.3333333333333333,
              "#9c179e"
             ],
             [
              0.4444444444444444,
              "#bd3786"
             ],
             [
              0.5555555555555556,
              "#d8576b"
             ],
             [
              0.6666666666666666,
              "#ed7953"
             ],
             [
              0.7777777777777778,
              "#fb9f3a"
             ],
             [
              0.8888888888888888,
              "#fdca26"
             ],
             [
              1,
              "#f0f921"
             ]
            ],
            "type": "contour"
           }
          ],
          "contourcarpet": [
           {
            "colorbar": {
             "outlinewidth": 0,
             "ticks": ""
            },
            "type": "contourcarpet"
           }
          ],
          "heatmap": [
           {
            "colorbar": {
             "outlinewidth": 0,
             "ticks": ""
            },
            "colorscale": [
             [
              0,
              "#0d0887"
             ],
             [
              0.1111111111111111,
              "#46039f"
             ],
             [
              0.2222222222222222,
              "#7201a8"
             ],
             [
              0.3333333333333333,
              "#9c179e"
             ],
             [
              0.4444444444444444,
              "#bd3786"
             ],
             [
              0.5555555555555556,
              "#d8576b"
             ],
             [
              0.6666666666666666,
              "#ed7953"
             ],
             [
              0.7777777777777778,
              "#fb9f3a"
             ],
             [
              0.8888888888888888,
              "#fdca26"
             ],
             [
              1,
              "#f0f921"
             ]
            ],
            "type": "heatmap"
           }
          ],
          "heatmapgl": [
           {
            "colorbar": {
             "outlinewidth": 0,
             "ticks": ""
            },
            "colorscale": [
             [
              0,
              "#0d0887"
             ],
             [
              0.1111111111111111,
              "#46039f"
             ],
             [
              0.2222222222222222,
              "#7201a8"
             ],
             [
              0.3333333333333333,
              "#9c179e"
             ],
             [
              0.4444444444444444,
              "#bd3786"
             ],
             [
              0.5555555555555556,
              "#d8576b"
             ],
             [
              0.6666666666666666,
              "#ed7953"
             ],
             [
              0.7777777777777778,
              "#fb9f3a"
             ],
             [
              0.8888888888888888,
              "#fdca26"
             ],
             [
              1,
              "#f0f921"
             ]
            ],
            "type": "heatmapgl"
           }
          ],
          "histogram": [
           {
            "marker": {
             "pattern": {
              "fillmode": "overlay",
              "size": 10,
              "solidity": 0.2
             }
            },
            "type": "histogram"
           }
          ],
          "histogram2d": [
           {
            "colorbar": {
             "outlinewidth": 0,
             "ticks": ""
            },
            "colorscale": [
             [
              0,
              "#0d0887"
             ],
             [
              0.1111111111111111,
              "#46039f"
             ],
             [
              0.2222222222222222,
              "#7201a8"
             ],
             [
              0.3333333333333333,
              "#9c179e"
             ],
             [
              0.4444444444444444,
              "#bd3786"
             ],
             [
              0.5555555555555556,
              "#d8576b"
             ],
             [
              0.6666666666666666,
              "#ed7953"
             ],
             [
              0.7777777777777778,
              "#fb9f3a"
             ],
             [
              0.8888888888888888,
              "#fdca26"
             ],
             [
              1,
              "#f0f921"
             ]
            ],
            "type": "histogram2d"
           }
          ],
          "histogram2dcontour": [
           {
            "colorbar": {
             "outlinewidth": 0,
             "ticks": ""
            },
            "colorscale": [
             [
              0,
              "#0d0887"
             ],
             [
              0.1111111111111111,
              "#46039f"
             ],
             [
              0.2222222222222222,
              "#7201a8"
             ],
             [
              0.3333333333333333,
              "#9c179e"
             ],
             [
              0.4444444444444444,
              "#bd3786"
             ],
             [
              0.5555555555555556,
              "#d8576b"
             ],
             [
              0.6666666666666666,
              "#ed7953"
             ],
             [
              0.7777777777777778,
              "#fb9f3a"
             ],
             [
              0.8888888888888888,
              "#fdca26"
             ],
             [
              1,
              "#f0f921"
             ]
            ],
            "type": "histogram2dcontour"
           }
          ],
          "mesh3d": [
           {
            "colorbar": {
             "outlinewidth": 0,
             "ticks": ""
            },
            "type": "mesh3d"
           }
          ],
          "parcoords": [
           {
            "line": {
             "colorbar": {
              "outlinewidth": 0,
              "ticks": ""
             }
            },
            "type": "parcoords"
           }
          ],
          "pie": [
           {
            "automargin": true,
            "type": "pie"
           }
          ],
          "scatter": [
           {
            "fillpattern": {
             "fillmode": "overlay",
             "size": 10,
             "solidity": 0.2
            },
            "type": "scatter"
           }
          ],
          "scatter3d": [
           {
            "line": {
             "colorbar": {
              "outlinewidth": 0,
              "ticks": ""
             }
            },
            "marker": {
             "colorbar": {
              "outlinewidth": 0,
              "ticks": ""
             }
            },
            "type": "scatter3d"
           }
          ],
          "scattercarpet": [
           {
            "marker": {
             "colorbar": {
              "outlinewidth": 0,
              "ticks": ""
             }
            },
            "type": "scattercarpet"
           }
          ],
          "scattergeo": [
           {
            "marker": {
             "colorbar": {
              "outlinewidth": 0,
              "ticks": ""
             }
            },
            "type": "scattergeo"
           }
          ],
          "scattergl": [
           {
            "marker": {
             "colorbar": {
              "outlinewidth": 0,
              "ticks": ""
             }
            },
            "type": "scattergl"
           }
          ],
          "scattermapbox": [
           {
            "marker": {
             "colorbar": {
              "outlinewidth": 0,
              "ticks": ""
             }
            },
            "type": "scattermapbox"
           }
          ],
          "scatterpolar": [
           {
            "marker": {
             "colorbar": {
              "outlinewidth": 0,
              "ticks": ""
             }
            },
            "type": "scatterpolar"
           }
          ],
          "scatterpolargl": [
           {
            "marker": {
             "colorbar": {
              "outlinewidth": 0,
              "ticks": ""
             }
            },
            "type": "scatterpolargl"
           }
          ],
          "scatterternary": [
           {
            "marker": {
             "colorbar": {
              "outlinewidth": 0,
              "ticks": ""
             }
            },
            "type": "scatterternary"
           }
          ],
          "surface": [
           {
            "colorbar": {
             "outlinewidth": 0,
             "ticks": ""
            },
            "colorscale": [
             [
              0,
              "#0d0887"
             ],
             [
              0.1111111111111111,
              "#46039f"
             ],
             [
              0.2222222222222222,
              "#7201a8"
             ],
             [
              0.3333333333333333,
              "#9c179e"
             ],
             [
              0.4444444444444444,
              "#bd3786"
             ],
             [
              0.5555555555555556,
              "#d8576b"
             ],
             [
              0.6666666666666666,
              "#ed7953"
             ],
             [
              0.7777777777777778,
              "#fb9f3a"
             ],
             [
              0.8888888888888888,
              "#fdca26"
             ],
             [
              1,
              "#f0f921"
             ]
            ],
            "type": "surface"
           }
          ],
          "table": [
           {
            "cells": {
             "fill": {
              "color": "#EBF0F8"
             },
             "line": {
              "color": "white"
             }
            },
            "header": {
             "fill": {
              "color": "#C8D4E3"
             },
             "line": {
              "color": "white"
             }
            },
            "type": "table"
           }
          ]
         },
         "layout": {
          "annotationdefaults": {
           "arrowcolor": "#2a3f5f",
           "arrowhead": 0,
           "arrowwidth": 1
          },
          "autotypenumbers": "strict",
          "coloraxis": {
           "colorbar": {
            "outlinewidth": 0,
            "ticks": ""
           }
          },
          "colorscale": {
           "diverging": [
            [
             0,
             "#8e0152"
            ],
            [
             0.1,
             "#c51b7d"
            ],
            [
             0.2,
             "#de77ae"
            ],
            [
             0.3,
             "#f1b6da"
            ],
            [
             0.4,
             "#fde0ef"
            ],
            [
             0.5,
             "#f7f7f7"
            ],
            [
             0.6,
             "#e6f5d0"
            ],
            [
             0.7,
             "#b8e186"
            ],
            [
             0.8,
             "#7fbc41"
            ],
            [
             0.9,
             "#4d9221"
            ],
            [
             1,
             "#276419"
            ]
           ],
           "sequential": [
            [
             0,
             "#0d0887"
            ],
            [
             0.1111111111111111,
             "#46039f"
            ],
            [
             0.2222222222222222,
             "#7201a8"
            ],
            [
             0.3333333333333333,
             "#9c179e"
            ],
            [
             0.4444444444444444,
             "#bd3786"
            ],
            [
             0.5555555555555556,
             "#d8576b"
            ],
            [
             0.6666666666666666,
             "#ed7953"
            ],
            [
             0.7777777777777778,
             "#fb9f3a"
            ],
            [
             0.8888888888888888,
             "#fdca26"
            ],
            [
             1,
             "#f0f921"
            ]
           ],
           "sequentialminus": [
            [
             0,
             "#0d0887"
            ],
            [
             0.1111111111111111,
             "#46039f"
            ],
            [
             0.2222222222222222,
             "#7201a8"
            ],
            [
             0.3333333333333333,
             "#9c179e"
            ],
            [
             0.4444444444444444,
             "#bd3786"
            ],
            [
             0.5555555555555556,
             "#d8576b"
            ],
            [
             0.6666666666666666,
             "#ed7953"
            ],
            [
             0.7777777777777778,
             "#fb9f3a"
            ],
            [
             0.8888888888888888,
             "#fdca26"
            ],
            [
             1,
             "#f0f921"
            ]
           ]
          },
          "colorway": [
           "#636efa",
           "#EF553B",
           "#00cc96",
           "#ab63fa",
           "#FFA15A",
           "#19d3f3",
           "#FF6692",
           "#B6E880",
           "#FF97FF",
           "#FECB52"
          ],
          "font": {
           "color": "#2a3f5f"
          },
          "geo": {
           "bgcolor": "white",
           "lakecolor": "white",
           "landcolor": "#E5ECF6",
           "showlakes": true,
           "showland": true,
           "subunitcolor": "white"
          },
          "hoverlabel": {
           "align": "left"
          },
          "hovermode": "closest",
          "mapbox": {
           "style": "light"
          },
          "paper_bgcolor": "white",
          "plot_bgcolor": "#E5ECF6",
          "polar": {
           "angularaxis": {
            "gridcolor": "white",
            "linecolor": "white",
            "ticks": ""
           },
           "bgcolor": "#E5ECF6",
           "radialaxis": {
            "gridcolor": "white",
            "linecolor": "white",
            "ticks": ""
           }
          },
          "scene": {
           "xaxis": {
            "backgroundcolor": "#E5ECF6",
            "gridcolor": "white",
            "gridwidth": 2,
            "linecolor": "white",
            "showbackground": true,
            "ticks": "",
            "zerolinecolor": "white"
           },
           "yaxis": {
            "backgroundcolor": "#E5ECF6",
            "gridcolor": "white",
            "gridwidth": 2,
            "linecolor": "white",
            "showbackground": true,
            "ticks": "",
            "zerolinecolor": "white"
           },
           "zaxis": {
            "backgroundcolor": "#E5ECF6",
            "gridcolor": "white",
            "gridwidth": 2,
            "linecolor": "white",
            "showbackground": true,
            "ticks": "",
            "zerolinecolor": "white"
           }
          },
          "shapedefaults": {
           "line": {
            "color": "#2a3f5f"
           }
          },
          "ternary": {
           "aaxis": {
            "gridcolor": "white",
            "linecolor": "white",
            "ticks": ""
           },
           "baxis": {
            "gridcolor": "white",
            "linecolor": "white",
            "ticks": ""
           },
           "bgcolor": "#E5ECF6",
           "caxis": {
            "gridcolor": "white",
            "linecolor": "white",
            "ticks": ""
           }
          },
          "title": {
           "x": 0.05
          },
          "xaxis": {
           "automargin": true,
           "gridcolor": "white",
           "linecolor": "white",
           "ticks": "",
           "title": {
            "standoff": 15
           },
           "zerolinecolor": "white",
           "zerolinewidth": 2
          },
          "yaxis": {
           "automargin": true,
           "gridcolor": "white",
           "linecolor": "white",
           "ticks": "",
           "title": {
            "standoff": 15
           },
           "zerolinecolor": "white",
           "zerolinewidth": 2
          }
         }
        },
        "title": {
         "text": "COAL Plants in 2004 by State"
        }
       }
      },
      "image/png": "[encoded data removed]",
      "text/html": [
       "<div>                            <div id=\"83b9ef14-0c97-41d6-b2fd-da049a19f26f\" class=\"plotly-graph-div\" style=\"height:525px; width:100%;\"></div>            <script type=\"text/javascript\">                require([\"plotly\"], function(Plotly) {                    window.PLOTLYENV=window.PLOTLYENV || {};                                    if (document.getElementById(\"83b9ef14-0c97-41d6-b2fd-da049a19f26f\")) {                    Plotly.newPlot(                        \"83b9ef14-0c97-41d6-b2fd-da049a19f26f\",                        [{\"branchvalues\":\"total\",\"customdata\":[[5.0,5.0],[15.0,15.0],[4.0,4.0],[7.0,7.0],[8.0,8.0],[14.0,14.0],[3.0,3.0],[4.0,4.0],[16.0,16.0],[20.0,20.0],[3.0,3.0],[28.0,28.0],[2.0,2.0],[32.0,32.0],[30.0,30.0],[8.0,8.0],[20.0,20.0],[6.0,6.0],[6.0,6.0],[9.0,9.0],[2.0,2.0],[33.0,33.0],[22.0,22.0],[24.0,24.0],[6.0,6.0],[4.0,4.0],[29.0,29.0],[10.0,10.0],[8.0,8.0],[2.0,2.0],[7.0,7.0],[4.0,4.0],[3.0,3.0],[15.0,15.0],[36.0,36.0],[7.0,7.0],[2.0,2.0],[43.0,43.0],[18.0,18.0],[2.0,2.0],[14.0,14.0],[19.0,19.0],[7.0,7.0],[24.0,24.0],[3.0,3.0],[31.0,31.0],[19.0,19.0],[11.0,11.0]],\"domain\":{\"x\":[0.0,1.0],\"y\":[0.0,1.0]},\"hovertemplate\":\"labels=%{label}\\u003cbr\\u003ecount_sum=%{value}\\u003cbr\\u003eparent=%{parent}\\u003cbr\\u003eid=%{id}\\u003cbr\\u003ecount=%{color}\\u003cextra\\u003e\\u003c\\u002fextra\\u003e\",\"ids\":[\"AK\",\"AL\",\"AR\",\"AZ\",\"CA\",\"CO\",\"CT\",\"DE\",\"FL\",\"GA\",\"HI\",\"IA\",\"ID\",\"IL\",\"IN\",\"KS\",\"KY\",\"LA\",\"MA\",\"MD\",\"ME\",\"MI\",\"MN\",\"MO\",\"MS\",\"MT\",\"NC\",\"ND\",\"NE\",\"NH\",\"NJ\",\"NM\",\"NV\",\"NY\",\"OH\",\"OK\",\"OR\",\"PA\",\"SC\",\"SD\",\"TN\",\"TX\",\"UT\",\"VA\",\"WA\",\"WI\",\"WV\",\"WY\"],\"labels\":[\"AK\",\"AL\",\"AR\",\"AZ\",\"CA\",\"CO\",\"CT\",\"DE\",\"FL\",\"GA\",\"HI\",\"IA\",\"ID\",\"IL\",\"IN\",\"KS\",\"KY\",\"LA\",\"MA\",\"MD\",\"ME\",\"MI\",\"MN\",\"MO\",\"MS\",\"MT\",\"NC\",\"ND\",\"NE\",\"NH\",\"NJ\",\"NM\",\"NV\",\"NY\",\"OH\",\"OK\",\"OR\",\"PA\",\"SC\",\"SD\",\"TN\",\"TX\",\"UT\",\"VA\",\"WA\",\"WI\",\"WV\",\"WY\"],\"marker\":{\"coloraxis\":\"coloraxis\",\"colors\":[5.0,15.0,4.0,7.0,8.0,14.0,3.0,4.0,16.0,20.0,3.0,28.0,2.0,32.0,30.0,8.0,20.0,6.0,6.0,9.0,2.0,33.0,22.0,24.0,6.0,4.0,29.0,10.0,8.0,2.0,7.0,4.0,3.0,15.0,36.0,7.0,2.0,43.0,18.0,2.0,14.0,19.0,7.0,24.0,3.0,31.0,19.0,11.0]},\"name\":\"\",\"parents\":[\"\",\"\",\"\",\"\",\"\",\"\",\"\",\"\",\"\",\"\",\"\",\"\",\"\",\"\",\"\",\"\",\"\",\"\",\"\",\"\",\"\",\"\",\"\",\"\",\"\",\"\",\"\",\"\",\"\",\"\",\"\",\"\",\"\",\"\",\"\",\"\",\"\",\"\",\"\",\"\",\"\",\"\",\"\",\"\",\"\",\"\",\"\",\"\"],\"values\":[5,15,4,7,8,14,3,4,16,20,3,28,2,32,30,8,20,6,6,9,2,33,22,24,6,4,29,10,8,2,7,4,3,15,36,7,2,43,18,2,14,19,7,24,3,31,19,11],\"type\":\"treemap\"}],                        {\"template\":{\"data\":{\"histogram2dcontour\":[{\"type\":\"histogram2dcontour\",\"colorbar\":{\"outlinewidth\":0,\"ticks\":\"\"},\"colorscale\":[[0.0,\"#0d0887\"],[0.1111111111111111,\"#46039f\"],[0.2222222222222222,\"#7201a8\"],[0.3333333333333333,\"#9c179e\"],[0.4444444444444444,\"#bd3786\"],[0.5555555555555556,\"#d8576b\"],[0.6666666666666666,\"#ed7953\"],[0.7777777777777778,\"#fb9f3a\"],[0.8888888888888888,\"#fdca26\"],[1.0,\"#f0f921\"]]}],\"choropleth\":[{\"type\":\"choropleth\",\"colorbar\":{\"outlinewidth\":0,\"ticks\":\"\"}}],\"histogram2d\":[{\"type\":\"histogram2d\",\"colorbar\":{\"outlinewidth\":0,\"ticks\":\"\"},\"colorscale\":[[0.0,\"#0d0887\"],[0.1111111111111111,\"#46039f\"],[0.2222222222222222,\"#7201a8\"],[0.3333333333333333,\"#9c179e\"],[0.4444444444444444,\"#bd3786\"],[0.5555555555555556,\"#d8576b\"],[0.6666666666666666,\"#ed7953\"],[0.7777777777777778,\"#fb9f3a\"],[0.8888888888888888,\"#fdca26\"],[1.0,\"#f0f921\"]]}],\"heatmap\":[{\"type\":\"heatmap\",\"colorbar\":{\"outlinewidth\":0,\"ticks\":\"\"},\"colorscale\":[[0.0,\"#0d0887\"],[0.1111111111111111,\"#46039f\"],[0.2222222222222222,\"#7201a8\"],[0.3333333333333333,\"#9c179e\"],[0.4444444444444444,\"#bd3786\"],[0.5555555555555556,\"#d8576b\"],[0.6666666666666666,\"#ed7953\"],[0.7777777777777778,\"#fb9f3a\"],[0.8888888888888888,\"#fdca26\"],[1.0,\"#f0f921\"]]}],\"heatmapgl\":[{\"type\":\"heatmapgl\",\"colorbar\":{\"outlinewidth\":0,\"ticks\":\"\"},\"colorscale\":[[0.0,\"#0d0887\"],[0.1111111111111111,\"#46039f\"],[0.2222222222222222,\"#7201a8\"],[0.3333333333333333,\"#9c179e\"],[0.4444444444444444,\"#bd3786\"],[0.5555555555555556,\"#d8576b\"],[0.6666666666666666,\"#ed7953\"],[0.7777777777777778,\"#fb9f3a\"],[0.8888888888888888,\"#fdca26\"],[1.0,\"#f0f921\"]]}],\"contourcarpet\":[{\"type\":\"contourcarpet\",\"colorbar\":{\"outlinewidth\":0,\"ticks\":\"\"}}],\"contour\":[{\"type\":\"contour\",\"colorbar\":{\"outlinewidth\":0,\"ticks\":\"\"},\"colorscale\":[[0.0,\"#0d0887\"],[0.1111111111111111,\"#46039f\"],[0.2222222222222222,\"#7201a8\"],[0.3333333333333333,\"#9c179e\"],[0.4444444444444444,\"#bd3786\"],[0.5555555555555556,\"#d8576b\"],[0.6666666666666666,\"#ed7953\"],[0.7777777777777778,\"#fb9f3a\"],[0.8888888888888888,\"#fdca26\"],[1.0,\"#f0f921\"]]}],\"surface\":[{\"type\":\"surface\",\"colorbar\":{\"outlinewidth\":0,\"ticks\":\"\"},\"colorscale\":[[0.0,\"#0d0887\"],[0.1111111111111111,\"#46039f\"],[0.2222222222222222,\"#7201a8\"],[0.3333333333333333,\"#9c179e\"],[0.4444444444444444,\"#bd3786\"],[0.5555555555555556,\"#d8576b\"],[0.6666666666666666,\"#ed7953\"],[0.7777777777777778,\"#fb9f3a\"],[0.8888888888888888,\"#fdca26\"],[1.0,\"#f0f921\"]]}],\"mesh3d\":[{\"type\":\"mesh3d\",\"colorbar\":{\"outlinewidth\":0,\"ticks\":\"\"}}],\"scatter\":[{\"fillpattern\":{\"fillmode\":\"overlay\",\"size\":10,\"solidity\":0.2},\"type\":\"scatter\"}],\"parcoords\":[{\"type\":\"parcoords\",\"line\":{\"colorbar\":{\"outlinewidth\":0,\"ticks\":\"\"}}}],\"scatterpolargl\":[{\"type\":\"scatterpolargl\",\"marker\":{\"colorbar\":{\"outlinewidth\":0,\"ticks\":\"\"}}}],\"bar\":[{\"error_x\":{\"color\":\"#2a3f5f\"},\"error_y\":{\"color\":\"#2a3f5f\"},\"marker\":{\"line\":{\"color\":\"#E5ECF6\",\"width\":0.5},\"pattern\":{\"fillmode\":\"overlay\",\"size\":10,\"solidity\":0.2}},\"type\":\"bar\"}],\"scattergeo\":[{\"type\":\"scattergeo\",\"marker\":{\"colorbar\":{\"outlinewidth\":0,\"ticks\":\"\"}}}],\"scatterpolar\":[{\"type\":\"scatterpolar\",\"marker\":{\"colorbar\":{\"outlinewidth\":0,\"ticks\":\"\"}}}],\"histogram\":[{\"marker\":{\"pattern\":{\"fillmode\":\"overlay\",\"size\":10,\"solidity\":0.2}},\"type\":\"histogram\"}],\"scattergl\":[{\"type\":\"scattergl\",\"marker\":{\"colorbar\":{\"outlinewidth\":0,\"ticks\":\"\"}}}],\"scatter3d\":[{\"type\":\"scatter3d\",\"line\":{\"colorbar\":{\"outlinewidth\":0,\"ticks\":\"\"}},\"marker\":{\"colorbar\":{\"outlinewidth\":0,\"ticks\":\"\"}}}],\"scattermapbox\":[{\"type\":\"scattermapbox\",\"marker\":{\"colorbar\":{\"outlinewidth\":0,\"ticks\":\"\"}}}],\"scatterternary\":[{\"type\":\"scatterternary\",\"marker\":{\"colorbar\":{\"outlinewidth\":0,\"ticks\":\"\"}}}],\"scattercarpet\":[{\"type\":\"scattercarpet\",\"marker\":{\"colorbar\":{\"outlinewidth\":0,\"ticks\":\"\"}}}],\"carpet\":[{\"aaxis\":{\"endlinecolor\":\"#2a3f5f\",\"gridcolor\":\"white\",\"linecolor\":\"white\",\"minorgridcolor\":\"white\",\"startlinecolor\":\"#2a3f5f\"},\"baxis\":{\"endlinecolor\":\"#2a3f5f\",\"gridcolor\":\"white\",\"linecolor\":\"white\",\"minorgridcolor\":\"white\",\"startlinecolor\":\"#2a3f5f\"},\"type\":\"carpet\"}],\"table\":[{\"cells\":{\"fill\":{\"color\":\"#EBF0F8\"},\"line\":{\"color\":\"white\"}},\"header\":{\"fill\":{\"color\":\"#C8D4E3\"},\"line\":{\"color\":\"white\"}},\"type\":\"table\"}],\"barpolar\":[{\"marker\":{\"line\":{\"color\":\"#E5ECF6\",\"width\":0.5},\"pattern\":{\"fillmode\":\"overlay\",\"size\":10,\"solidity\":0.2}},\"type\":\"barpolar\"}],\"pie\":[{\"automargin\":true,\"type\":\"pie\"}]},\"layout\":{\"autotypenumbers\":\"strict\",\"colorway\":[\"#636efa\",\"#EF553B\",\"#00cc96\",\"#ab63fa\",\"#FFA15A\",\"#19d3f3\",\"#FF6692\",\"#B6E880\",\"#FF97FF\",\"#FECB52\"],\"font\":{\"color\":\"#2a3f5f\"},\"hovermode\":\"closest\",\"hoverlabel\":{\"align\":\"left\"},\"paper_bgcolor\":\"white\",\"plot_bgcolor\":\"#E5ECF6\",\"polar\":{\"bgcolor\":\"#E5ECF6\",\"angularaxis\":{\"gridcolor\":\"white\",\"linecolor\":\"white\",\"ticks\":\"\"},\"radialaxis\":{\"gridcolor\":\"white\",\"linecolor\":\"white\",\"ticks\":\"\"}},\"ternary\":{\"bgcolor\":\"#E5ECF6\",\"aaxis\":{\"gridcolor\":\"white\",\"linecolor\":\"white\",\"ticks\":\"\"},\"baxis\":{\"gridcolor\":\"white\",\"linecolor\":\"white\",\"ticks\":\"\"},\"caxis\":{\"gridcolor\":\"white\",\"linecolor\":\"white\",\"ticks\":\"\"}},\"coloraxis\":{\"colorbar\":{\"outlinewidth\":0,\"ticks\":\"\"}},\"colorscale\":{\"sequential\":[[0.0,\"#0d0887\"],[0.1111111111111111,\"#46039f\"],[0.2222222222222222,\"#7201a8\"],[0.3333333333333333,\"#9c179e\"],[0.4444444444444444,\"#bd3786\"],[0.5555555555555556,\"#d8576b\"],[0.6666666666666666,\"#ed7953\"],[0.7777777777777778,\"#fb9f3a\"],[0.8888888888888888,\"#fdca26\"],[1.0,\"#f0f921\"]],\"sequentialminus\":[[0.0,\"#0d0887\"],[0.1111111111111111,\"#46039f\"],[0.2222222222222222,\"#7201a8\"],[0.3333333333333333,\"#9c179e\"],[0.4444444444444444,\"#bd3786\"],[0.5555555555555556,\"#d8576b\"],[0.6666666666666666,\"#ed7953\"],[0.7777777777777778,\"#fb9f3a\"],[0.8888888888888888,\"#fdca26\"],[1.0,\"#f0f921\"]],\"diverging\":[[0,\"#8e0152\"],[0.1,\"#c51b7d\"],[0.2,\"#de77ae\"],[0.3,\"#f1b6da\"],[0.4,\"#fde0ef\"],[0.5,\"#f7f7f7\"],[0.6,\"#e6f5d0\"],[0.7,\"#b8e186\"],[0.8,\"#7fbc41\"],[0.9,\"#4d9221\"],[1,\"#276419\"]]},\"xaxis\":{\"gridcolor\":\"white\",\"linecolor\":\"white\",\"ticks\":\"\",\"title\":{\"standoff\":15},\"zerolinecolor\":\"white\",\"automargin\":true,\"zerolinewidth\":2},\"yaxis\":{\"gridcolor\":\"white\",\"linecolor\":\"white\",\"ticks\":\"\",\"title\":{\"standoff\":15},\"zerolinecolor\":\"white\",\"automargin\":true,\"zerolinewidth\":2},\"scene\":{\"xaxis\":{\"backgroundcolor\":\"#E5ECF6\",\"gridcolor\":\"white\",\"linecolor\":\"white\",\"showbackground\":true,\"ticks\":\"\",\"zerolinecolor\":\"white\",\"gridwidth\":2},\"yaxis\":{\"backgroundcolor\":\"#E5ECF6\",\"gridcolor\":\"white\",\"linecolor\":\"white\",\"showbackground\":true,\"ticks\":\"\",\"zerolinecolor\":\"white\",\"gridwidth\":2},\"zaxis\":{\"backgroundcolor\":\"#E5ECF6\",\"gridcolor\":\"white\",\"linecolor\":\"white\",\"showbackground\":true,\"ticks\":\"\",\"zerolinecolor\":\"white\",\"gridwidth\":2}},\"shapedefaults\":{\"line\":{\"color\":\"#2a3f5f\"}},\"annotationdefaults\":{\"arrowcolor\":\"#2a3f5f\",\"arrowhead\":0,\"arrowwidth\":1},\"geo\":{\"bgcolor\":\"white\",\"landcolor\":\"#E5ECF6\",\"subunitcolor\":\"white\",\"showland\":true,\"showlakes\":true,\"lakecolor\":\"white\"},\"title\":{\"x\":0.05},\"mapbox\":{\"style\":\"light\"}}},\"coloraxis\":{\"colorbar\":{\"title\":{\"text\":\"count\"}},\"colorscale\":[[0.0,\"#440154\"],[0.1111111111111111,\"#482878\"],[0.2222222222222222,\"#3e4989\"],[0.3333333333333333,\"#31688e\"],[0.4444444444444444,\"#26828e\"],[0.5555555555555556,\"#1f9e89\"],[0.6666666666666666,\"#35b779\"],[0.7777777777777778,\"#6ece58\"],[0.8888888888888888,\"#b5de2b\"],[1.0,\"#fde725\"]]},\"legend\":{\"tracegroupgap\":0},\"title\":{\"text\":\"COAL Plants in 2004 by State\"},\"annotations\":[{\"font\":{\"size\":25},\"showarrow\":true,\"text\":\"Total: 645\",\"x\":0.5,\"y\":0.92}]},                        {\"responsive\": true}                    ).then(function(){\n",
       "                            \n",
       "var gd = document.getElementById('83b9ef14-0c97-41d6-b2fd-da049a19f26f');\n",
       "var x = new MutationObserver(function (mutations, observer) {{\n",
       "        var display = window.getComputedStyle(gd).display;\n",
       "        if (!display || display === 'none') {{\n",
       "            console.log([gd, 'removed!']);\n",
       "            Plotly.purge(gd);\n",
       "            observer.disconnect();\n",
       "        }}\n",
       "}});\n",
       "\n",
       "// Listen for the removal of the full notebook cells\n",
       "var notebookContainer = gd.closest('#notebook-container');\n",
       "if (notebookContainer) {{\n",
       "    x.observe(notebookContainer, {childList: true});\n",
       "}}\n",
       "\n",
       "// Listen for the clearing of the current output cell\n",
       "var outputEl = gd.closest('.output');\n",
       "if (outputEl) {{\n",
       "    x.observe(outputEl, {childList: true});\n",
       "}}\n",
       "\n",
       "                        })                };                });            </script>        </div>"
      ]
     },
     "metadata": {},
     "output_type": "display_data"
    }
   ],
   "source": [
    "import plotly.express as px\n",
    "\n",
    "\n",
    "\n",
    "def create_treemap(raw_df,given_type, year):\n",
    "    grouped_data = raw_df.groupby(['year', 'state_id', 'plant_type']).size().reset_index(name='count')\n",
    "    given_type = given_type\n",
    "    given_typedf = grouped_data[grouped_data['plant_type'] == given_type]\n",
    "    fig = px.treemap(given_typedf[given_typedf['year'] == year],\n",
    "                     path=['state_id'],\n",
    "                     values='count',\n",
    "                     title=f'{given_type} Plants in {year} by State',\n",
    "                     color='count',\n",
    "                     color_continuous_scale='Viridis',\n",
    "                     hover_data=['count'])  \n",
    "\n",
    "    total_count = given_typedf[given_typedf['year'] == year]['count'].sum()\n",
    "\n",
    "    fig.add_annotation(\n",
    "        x=0.5,\n",
    "        y=.92,\n",
    "        text=f'Total: {total_count}',\n",
    "        showarrow=True,\n",
    "        font=dict(size=25)\n",
    "    )\n",
    "\n",
    "    fig.show()\n",
    "\n",
    "create_treemap(data2,\"COAL\",2004)\n"
   ]
  },
  {
   "cell_type": "code",
   "execution_count": 55,
   "id": "66d75deb-4a58-4b38-9114-c856a2c6d868",
   "metadata": {},
   "outputs": [],
   "source": [
    "data = data[data['state_id'] != 'PR']"
   ]
  },
  {
   "cell_type": "code",
   "execution_count": 41,
   "id": "28418576-16a2-4d2c-82ee-cb449cca349b",
   "metadata": {},
   "outputs": [
    {
     "data": {
      "text/html": [
       "<div>\n",
       "<style scoped>\n",
       "    .dataframe tbody tr th:only-of-type {\n",
       "        vertical-align: middle;\n",
       "    }\n",
       "\n",
       "    .dataframe tbody tr th {\n",
       "        vertical-align: top;\n",
       "    }\n",
       "\n",
       "    .dataframe thead th {\n",
       "        text-align: right;\n",
       "    }\n",
       "</style>\n",
       "<table border=\"1\" class=\"dataframe\">\n",
       "  <thead>\n",
       "    <tr style=\"text-align: right;\">\n",
       "      <th></th>\n",
       "      <th>year_state</th>\n",
       "      <th>year</th>\n",
       "      <th>state_id</th>\n",
       "      <th>plfuelct</th>\n",
       "      <th>renew_gen</th>\n",
       "      <th>non_renew</th>\n",
       "      <th>plant_type</th>\n",
       "      <th>total_generation</th>\n",
       "      <th>total_generation_year</th>\n",
       "    </tr>\n",
       "  </thead>\n",
       "  <tbody>\n",
       "    <tr>\n",
       "      <th>0</th>\n",
       "      <td>2012_AK</td>\n",
       "      <td>2012</td>\n",
       "      <td>AK</td>\n",
       "      <td>GAS</td>\n",
       "      <td>0.000</td>\n",
       "      <td>0.0</td>\n",
       "      <td>GAS</td>\n",
       "      <td>0.000</td>\n",
       "      <td>4.045518e+09</td>\n",
       "    </tr>\n",
       "    <tr>\n",
       "      <th>1</th>\n",
       "      <td>2012_AK</td>\n",
       "      <td>2012</td>\n",
       "      <td>AK</td>\n",
       "      <td>OIL</td>\n",
       "      <td>2031.000</td>\n",
       "      <td>0.0</td>\n",
       "      <td>OTHER SOURCES</td>\n",
       "      <td>2031.000</td>\n",
       "      <td>4.045518e+09</td>\n",
       "    </tr>\n",
       "    <tr>\n",
       "      <th>2</th>\n",
       "      <td>2012_AK</td>\n",
       "      <td>2012</td>\n",
       "      <td>AK</td>\n",
       "      <td>GAS</td>\n",
       "      <td>54633.000</td>\n",
       "      <td>0.0</td>\n",
       "      <td>GAS</td>\n",
       "      <td>54633.000</td>\n",
       "      <td>4.045518e+09</td>\n",
       "    </tr>\n",
       "    <tr>\n",
       "      <th>3</th>\n",
       "      <td>2012_AK</td>\n",
       "      <td>2012</td>\n",
       "      <td>AK</td>\n",
       "      <td>OIL</td>\n",
       "      <td>1765.000</td>\n",
       "      <td>0.0</td>\n",
       "      <td>OTHER SOURCES</td>\n",
       "      <td>1765.000</td>\n",
       "      <td>4.045518e+09</td>\n",
       "    </tr>\n",
       "    <tr>\n",
       "      <th>4</th>\n",
       "      <td>2012_AK</td>\n",
       "      <td>2012</td>\n",
       "      <td>AK</td>\n",
       "      <td>OIL</td>\n",
       "      <td>2759.000</td>\n",
       "      <td>0.0</td>\n",
       "      <td>OTHER SOURCES</td>\n",
       "      <td>2759.000</td>\n",
       "      <td>4.045518e+09</td>\n",
       "    </tr>\n",
       "    <tr>\n",
       "      <th>...</th>\n",
       "      <td>...</td>\n",
       "      <td>...</td>\n",
       "      <td>...</td>\n",
       "      <td>...</td>\n",
       "      <td>...</td>\n",
       "      <td>...</td>\n",
       "      <td>...</td>\n",
       "      <td>...</td>\n",
       "      <td>...</td>\n",
       "    </tr>\n",
       "    <tr>\n",
       "      <th>110446</th>\n",
       "      <td>2022_WY</td>\n",
       "      <td>2022</td>\n",
       "      <td>WY</td>\n",
       "      <td>WIND</td>\n",
       "      <td>0.000</td>\n",
       "      <td>341330.0</td>\n",
       "      <td>WIND</td>\n",
       "      <td>341330.000</td>\n",
       "      <td>4.240141e+09</td>\n",
       "    </tr>\n",
       "    <tr>\n",
       "      <th>110447</th>\n",
       "      <td>2022_WY</td>\n",
       "      <td>2022</td>\n",
       "      <td>WY</td>\n",
       "      <td>COAL</td>\n",
       "      <td>688614.004</td>\n",
       "      <td>0.0</td>\n",
       "      <td>COAL</td>\n",
       "      <td>688614.004</td>\n",
       "      <td>4.240141e+09</td>\n",
       "    </tr>\n",
       "    <tr>\n",
       "      <th>110448</th>\n",
       "      <td>2022_WY</td>\n",
       "      <td>2022</td>\n",
       "      <td>WY</td>\n",
       "      <td>COAL</td>\n",
       "      <td>720573.002</td>\n",
       "      <td>0.0</td>\n",
       "      <td>COAL</td>\n",
       "      <td>720573.002</td>\n",
       "      <td>4.240141e+09</td>\n",
       "    </tr>\n",
       "    <tr>\n",
       "      <th>110449</th>\n",
       "      <td>2022_WY</td>\n",
       "      <td>2022</td>\n",
       "      <td>WY</td>\n",
       "      <td>COAL</td>\n",
       "      <td>805208.002</td>\n",
       "      <td>0.0</td>\n",
       "      <td>COAL</td>\n",
       "      <td>805208.002</td>\n",
       "      <td>4.240141e+09</td>\n",
       "    </tr>\n",
       "    <tr>\n",
       "      <th>110450</th>\n",
       "      <td>2022_WY</td>\n",
       "      <td>2022</td>\n",
       "      <td>WY</td>\n",
       "      <td>COAL</td>\n",
       "      <td>1604716.951</td>\n",
       "      <td>0.0</td>\n",
       "      <td>COAL</td>\n",
       "      <td>1604716.951</td>\n",
       "      <td>4.240141e+09</td>\n",
       "    </tr>\n",
       "  </tbody>\n",
       "</table>\n",
       "<p>110451 rows × 9 columns</p>\n",
       "</div>"
      ],
      "text/plain": [
       "       year_state  year state_id plfuelct    renew_gen  non_renew  \\\n",
       "0         2012_AK  2012       AK      GAS        0.000        0.0   \n",
       "1         2012_AK  2012       AK      OIL     2031.000        0.0   \n",
       "2         2012_AK  2012       AK      GAS    54633.000        0.0   \n",
       "3         2012_AK  2012       AK      OIL     1765.000        0.0   \n",
       "4         2012_AK  2012       AK      OIL     2759.000        0.0   \n",
       "...           ...   ...      ...      ...          ...        ...   \n",
       "110446    2022_WY  2022       WY     WIND        0.000   341330.0   \n",
       "110447    2022_WY  2022       WY     COAL   688614.004        0.0   \n",
       "110448    2022_WY  2022       WY     COAL   720573.002        0.0   \n",
       "110449    2022_WY  2022       WY     COAL   805208.002        0.0   \n",
       "110450    2022_WY  2022       WY     COAL  1604716.951        0.0   \n",
       "\n",
       "           plant_type  total_generation  total_generation_year  \n",
       "0                 GAS             0.000           4.045518e+09  \n",
       "1       OTHER SOURCES          2031.000           4.045518e+09  \n",
       "2                 GAS         54633.000           4.045518e+09  \n",
       "3       OTHER SOURCES          1765.000           4.045518e+09  \n",
       "4       OTHER SOURCES          2759.000           4.045518e+09  \n",
       "...               ...               ...                    ...  \n",
       "110446           WIND        341330.000           4.240141e+09  \n",
       "110447           COAL        688614.004           4.240141e+09  \n",
       "110448           COAL        720573.002           4.240141e+09  \n",
       "110449           COAL        805208.002           4.240141e+09  \n",
       "110450           COAL       1604716.951           4.240141e+09  \n",
       "\n",
       "[110451 rows x 9 columns]"
      ]
     },
     "execution_count": 41,
     "metadata": {},
     "output_type": "execute_result"
    }
   ],
   "source": [
    "data2"
   ]
  },
  {
   "cell_type": "code",
   "execution_count": 52,
   "id": "115b4ef9-63b6-4721-8421-cb93157e3edf",
   "metadata": {},
   "outputs": [],
   "source": [
    "RenewableGeneration = \"total_renew_gen\"\n",
    "NonRenewableGeneration = \"total_non_renew_gen\"\n",
    "total_generation_column = \"total_generation\"\n",
    "state_column = \"state_id\"\n",
    "year_column = \"year\"\n",
    "\n",
    "data[total_generation_column] = data[RenewableGeneration] + data[NonRenewableGeneration]\n",
    "\n",
    "\n",
    "data[\"PercentageRenewable\"] = (data[RenewableGeneration] / data[total_generation_column]) * 100\n",
    "data[\"PercentageNonRenewable\"] = (data[NonRenewableGeneration] / data[total_generation_column]) * 100"
   ]
  },
  {
   "cell_type": "code",
   "execution_count": 53,
   "id": "9407689b-4280-4103-ac2a-5a13eea32e88",
   "metadata": {},
   "outputs": [
    {
     "data": {
      "text/html": [
       "<div>\n",
       "<style scoped>\n",
       "    .dataframe tbody tr th:only-of-type {\n",
       "        vertical-align: middle;\n",
       "    }\n",
       "\n",
       "    .dataframe tbody tr th {\n",
       "        vertical-align: top;\n",
       "    }\n",
       "\n",
       "    .dataframe thead th {\n",
       "        text-align: right;\n",
       "    }\n",
       "</style>\n",
       "<table border=\"1\" class=\"dataframe\">\n",
       "  <thead>\n",
       "    <tr style=\"text-align: right;\">\n",
       "      <th></th>\n",
       "      <th>year_state</th>\n",
       "      <th>year</th>\n",
       "      <th>state_id</th>\n",
       "      <th>total_non_renew_gen</th>\n",
       "      <th>total_renew_gen</th>\n",
       "      <th>total_generation</th>\n",
       "      <th>PercentageRenewable</th>\n",
       "      <th>PercentageNonRenewable</th>\n",
       "    </tr>\n",
       "  </thead>\n",
       "  <tbody>\n",
       "    <tr>\n",
       "      <th>0</th>\n",
       "      <td>2004_AK</td>\n",
       "      <td>2004</td>\n",
       "      <td>AK</td>\n",
       "      <td>5.019477e+06</td>\n",
       "      <td>1.507234e+06</td>\n",
       "      <td>6.526711e+06</td>\n",
       "      <td>23.093320</td>\n",
       "      <td>76.906680</td>\n",
       "    </tr>\n",
       "    <tr>\n",
       "      <th>1</th>\n",
       "      <td>2004_AL</td>\n",
       "      <td>2004</td>\n",
       "      <td>AL</td>\n",
       "      <td>1.228036e+08</td>\n",
       "      <td>1.452449e+07</td>\n",
       "      <td>1.373281e+08</td>\n",
       "      <td>10.576485</td>\n",
       "      <td>89.423515</td>\n",
       "    </tr>\n",
       "    <tr>\n",
       "      <th>2</th>\n",
       "      <td>2004_AR</td>\n",
       "      <td>2004</td>\n",
       "      <td>AR</td>\n",
       "      <td>4.624578e+07</td>\n",
       "      <td>5.579443e+06</td>\n",
       "      <td>5.182522e+07</td>\n",
       "      <td>10.765883</td>\n",
       "      <td>89.234117</td>\n",
       "    </tr>\n",
       "    <tr>\n",
       "      <th>3</th>\n",
       "      <td>2004_AZ</td>\n",
       "      <td>2004</td>\n",
       "      <td>AZ</td>\n",
       "      <td>9.192974e+07</td>\n",
       "      <td>6.967969e+06</td>\n",
       "      <td>9.889771e+07</td>\n",
       "      <td>7.045633</td>\n",
       "      <td>92.954367</td>\n",
       "    </tr>\n",
       "    <tr>\n",
       "      <th>4</th>\n",
       "      <td>2004_CA</td>\n",
       "      <td>2004</td>\n",
       "      <td>CA</td>\n",
       "      <td>1.365880e+08</td>\n",
       "      <td>5.622154e+07</td>\n",
       "      <td>1.928096e+08</td>\n",
       "      <td>29.159101</td>\n",
       "      <td>70.840899</td>\n",
       "    </tr>\n",
       "    <tr>\n",
       "      <th>...</th>\n",
       "      <td>...</td>\n",
       "      <td>...</td>\n",
       "      <td>...</td>\n",
       "      <td>...</td>\n",
       "      <td>...</td>\n",
       "      <td>...</td>\n",
       "      <td>...</td>\n",
       "      <td>...</td>\n",
       "    </tr>\n",
       "    <tr>\n",
       "      <th>662</th>\n",
       "      <td>2022_VT</td>\n",
       "      <td>2022</td>\n",
       "      <td>VT</td>\n",
       "      <td>9.630800e+03</td>\n",
       "      <td>2.173006e+06</td>\n",
       "      <td>2.182637e+06</td>\n",
       "      <td>99.558754</td>\n",
       "      <td>0.441246</td>\n",
       "    </tr>\n",
       "    <tr>\n",
       "      <th>663</th>\n",
       "      <td>2022_WA</td>\n",
       "      <td>2022</td>\n",
       "      <td>WA</td>\n",
       "      <td>2.830033e+07</td>\n",
       "      <td>8.835030e+07</td>\n",
       "      <td>1.166506e+08</td>\n",
       "      <td>75.739237</td>\n",
       "      <td>24.260763</td>\n",
       "    </tr>\n",
       "    <tr>\n",
       "      <th>664</th>\n",
       "      <td>2022_WI</td>\n",
       "      <td>2022</td>\n",
       "      <td>WI</td>\n",
       "      <td>5.546563e+07</td>\n",
       "      <td>5.763137e+06</td>\n",
       "      <td>6.122877e+07</td>\n",
       "      <td>9.412467</td>\n",
       "      <td>90.587533</td>\n",
       "    </tr>\n",
       "    <tr>\n",
       "      <th>665</th>\n",
       "      <td>2022_WV</td>\n",
       "      <td>2022</td>\n",
       "      <td>WV</td>\n",
       "      <td>5.300100e+07</td>\n",
       "      <td>3.664359e+06</td>\n",
       "      <td>5.666536e+07</td>\n",
       "      <td>6.466665</td>\n",
       "      <td>93.533335</td>\n",
       "    </tr>\n",
       "    <tr>\n",
       "      <th>666</th>\n",
       "      <td>2022_WY</td>\n",
       "      <td>2022</td>\n",
       "      <td>WY</td>\n",
       "      <td>3.550018e+07</td>\n",
       "      <td>1.071080e+07</td>\n",
       "      <td>4.621098e+07</td>\n",
       "      <td>23.178034</td>\n",
       "      <td>76.821966</td>\n",
       "    </tr>\n",
       "  </tbody>\n",
       "</table>\n",
       "<p>667 rows × 8 columns</p>\n",
       "</div>"
      ],
      "text/plain": [
       "    year_state  year state_id  total_non_renew_gen  total_renew_gen  \\\n",
       "0      2004_AK  2004       AK         5.019477e+06     1.507234e+06   \n",
       "1      2004_AL  2004       AL         1.228036e+08     1.452449e+07   \n",
       "2      2004_AR  2004       AR         4.624578e+07     5.579443e+06   \n",
       "3      2004_AZ  2004       AZ         9.192974e+07     6.967969e+06   \n",
       "4      2004_CA  2004       CA         1.365880e+08     5.622154e+07   \n",
       "..         ...   ...      ...                  ...              ...   \n",
       "662    2022_VT  2022       VT         9.630800e+03     2.173006e+06   \n",
       "663    2022_WA  2022       WA         2.830033e+07     8.835030e+07   \n",
       "664    2022_WI  2022       WI         5.546563e+07     5.763137e+06   \n",
       "665    2022_WV  2022       WV         5.300100e+07     3.664359e+06   \n",
       "666    2022_WY  2022       WY         3.550018e+07     1.071080e+07   \n",
       "\n",
       "     total_generation  PercentageRenewable  PercentageNonRenewable  \n",
       "0        6.526711e+06            23.093320               76.906680  \n",
       "1        1.373281e+08            10.576485               89.423515  \n",
       "2        5.182522e+07            10.765883               89.234117  \n",
       "3        9.889771e+07             7.045633               92.954367  \n",
       "4        1.928096e+08            29.159101               70.840899  \n",
       "..                ...                  ...                     ...  \n",
       "662      2.182637e+06            99.558754                0.441246  \n",
       "663      1.166506e+08            75.739237               24.260763  \n",
       "664      6.122877e+07             9.412467               90.587533  \n",
       "665      5.666536e+07             6.466665               93.533335  \n",
       "666      4.621098e+07            23.178034               76.821966  \n",
       "\n",
       "[667 rows x 8 columns]"
      ]
     },
     "execution_count": 53,
     "metadata": {},
     "output_type": "execute_result"
    }
   ],
   "source": [
    "data"
   ]
  },
  {
   "cell_type": "code",
   "execution_count": null,
   "id": "0b23a02f-301e-4f94-bd17-53b9e4b2745b",
   "metadata": {},
   "outputs": [],
   "source": [
    "percent = 60\n",
    "percent_data = data[data['PercentageRenewable'] > percent]"
   ]
  },
  {
   "cell_type": "code",
   "execution_count": null,
   "id": "71a24c6b-2cbb-4ab2-b184-aad4b72f2b74",
   "metadata": {},
   "outputs": [],
   "source": [
    "states = percent_data['state_id'].unique()\n",
    "print(f\"States with renewable energy production greater than {percent}% are: \\n\")\n",
    "for state_id in states:\n",
    "    print(abbreviation_to_state_name[state_id])"
   ]
  },
  {
   "cell_type": "code",
   "execution_count": null,
   "id": "a7357610-57fa-4bd4-b1a7-bedde2512445",
   "metadata": {},
   "outputs": [],
   "source": [
    "abbreviation_to_state_name = {\n",
    "    'AL': 'ALABAMA',\n",
    "    'AK': 'ALASKA',\n",
    "    'AZ': 'ARIZONA',\n",
    "    'AR': 'ARKANSAS',\n",
    "    'CA': 'CALIFORNIA',\n",
    "    'CO': 'COLORADO',\n",
    "    'CT': 'CONNECTICUT',\n",
    "    'DC': 'DISTRICT OF COLUMBIA',\n",
    "    'DE': 'DELAWARE',\n",
    "    'FL': 'FLORIDA',\n",
    "    'GA': 'GEORGIA',\n",
    "    'HI': 'HAWAII',\n",
    "    'ID': 'IDAHO',\n",
    "    'IL': 'ILLINOIS',\n",
    "    'IN': 'INDIANA',\n",
    "    'IA': 'IOWA',\n",
    "    'KS': 'KANSAS',\n",
    "    'KY': 'KENTUCKY',\n",
    "    'LA': 'LOUISIANA',\n",
    "    'ME': 'MAINE',\n",
    "    'MD': 'MARYLAND',\n",
    "    'MA': 'MASSACHUSETTS',\n",
    "    'MI': 'MICHIGAN',\n",
    "    'MN': 'MINNESOTA',\n",
    "    'MS': 'MISSISSIPPI',\n",
    "    'MO': 'MISSOURI',\n",
    "    'MT': 'MONTANA',\n",
    "    'NE': 'NEBRASKA',\n",
    "    'NV': 'NEVADA',\n",
    "    'NH': 'NEW HAMPSHIRE',\n",
    "    'NJ': 'NEW JERSEY',\n",
    "    'NM': 'NEW MEXICO',\n",
    "    'NY': 'NEW YORK',\n",
    "    'NC': 'NORTH CAROLINA',\n",
    "    'ND': 'NORTH DAKOTA',\n",
    "    'OH': 'OHIO',\n",
    "    'OK': 'OKLAHOMA',\n",
    "    'OR': 'OREGON',\n",
    "    'PA': 'PENNSYLVANIA',\n",
    "    'RI': 'RHODE ISLAND',\n",
    "    'SC': 'SOUTH CAROLINA',\n",
    "    'SD': 'SOUTH DAKOTA',\n",
    "    'TN': 'TENNESSEE',\n",
    "    'TX': 'TEXAS',\n",
    "    'UT': 'UTAH',\n",
    "    'VT': 'VERMONT',\n",
    "    'VA': 'VIRGINIA',\n",
    "    'WA': 'WASHINGTON',\n",
    "    'WV': 'WEST VIRGINIA',\n",
    "    'WI': 'WISCONSIN',\n",
    "    'WY': 'WYOMING'\n",
    "}\n"
   ]
  },
  {
   "cell_type": "code",
   "execution_count": null,
   "id": "cbc1dbcb-0c6d-495e-b0f8-a9e3274e42de",
   "metadata": {},
   "outputs": [],
   "source": [
    "\n",
    "def get_slope_info(state_data):\n",
    "    X = sm.add_constant(state_data[['year']])\n",
    "    y = state_data['PercentageRenewable']\n",
    "\n",
    "    model = sm.OLS(y, X).fit()\n",
    "\n",
    "    slope = model.params['year']\n",
    "    p_value = model.pvalues['year']\n",
    "\n",
    "    if p_value < 0.05:\n",
    "        sig = 'Yes'\n",
    "    else:\n",
    "        sig = 'No'\n",
    "\n",
    "    return slope, sig\n",
    "\n",
    "def get_slope_from_state(state):\n",
    "    return slopes[state][0]\n",
    "\n",
    "starting_year = 2018\n",
    "\n",
    "grouped_data = data[data['year'] >= starting_year].groupby('state_id')\n",
    "\n",
    "slopes = {state: get_slope_info(state_data) for state, state_data in grouped_data}\n",
    "\n",
    "top_states = sorted(slopes, key=get_slope_from_state, reverse=True)\n",
    "\n",
    "print(f\"States with the highest improvement in renewable energy since {starting_year}:\")\n",
    "for state in top_states[:5]:\n",
    "     print(f\" {abbreviation_to_state_name[state]}: {round(slopes[state][0])}% increase per year\")"
   ]
  },
  {
   "cell_type": "code",
   "execution_count": 59,
   "id": "1be9ca29-e4ef-431c-be23-2223db7a4989",
   "metadata": {},
   "outputs": [
    {
     "data": {
      "text/html": [
       "<div>\n",
       "<style scoped>\n",
       "    .dataframe tbody tr th:only-of-type {\n",
       "        vertical-align: middle;\n",
       "    }\n",
       "\n",
       "    .dataframe tbody tr th {\n",
       "        vertical-align: top;\n",
       "    }\n",
       "\n",
       "    .dataframe thead th {\n",
       "        text-align: right;\n",
       "    }\n",
       "</style>\n",
       "<table border=\"1\" class=\"dataframe\">\n",
       "  <thead>\n",
       "    <tr style=\"text-align: right;\">\n",
       "      <th></th>\n",
       "      <th>state_id</th>\n",
       "      <th>predicted_year</th>\n",
       "      <th>statistically_significant</th>\n",
       "    </tr>\n",
       "  </thead>\n",
       "  <tbody>\n",
       "    <tr>\n",
       "      <th>0</th>\n",
       "      <td>AK</td>\n",
       "      <td>2056</td>\n",
       "      <td>Yes</td>\n",
       "    </tr>\n",
       "    <tr>\n",
       "      <th>1</th>\n",
       "      <td>AL</td>\n",
       "      <td>2068</td>\n",
       "      <td>No</td>\n",
       "    </tr>\n",
       "    <tr>\n",
       "      <th>2</th>\n",
       "      <td>AR</td>\n",
       "      <td>Not predictable</td>\n",
       "      <td>No</td>\n",
       "    </tr>\n",
       "    <tr>\n",
       "      <th>3</th>\n",
       "      <td>AZ</td>\n",
       "      <td>2111</td>\n",
       "      <td>Yes</td>\n",
       "    </tr>\n",
       "    <tr>\n",
       "      <th>4</th>\n",
       "      <td>CA</td>\n",
       "      <td>2030</td>\n",
       "      <td>Yes</td>\n",
       "    </tr>\n",
       "    <tr>\n",
       "      <th>5</th>\n",
       "      <td>CO</td>\n",
       "      <td>2037</td>\n",
       "      <td>Yes</td>\n",
       "    </tr>\n",
       "    <tr>\n",
       "      <th>6</th>\n",
       "      <td>CT</td>\n",
       "      <td>2049</td>\n",
       "      <td>No</td>\n",
       "    </tr>\n",
       "    <tr>\n",
       "      <th>7</th>\n",
       "      <td>DC</td>\n",
       "      <td>Not predictable</td>\n",
       "      <td>Yes</td>\n",
       "    </tr>\n",
       "    <tr>\n",
       "      <th>8</th>\n",
       "      <td>DE</td>\n",
       "      <td>2270</td>\n",
       "      <td>Yes</td>\n",
       "    </tr>\n",
       "    <tr>\n",
       "      <th>9</th>\n",
       "      <td>FL</td>\n",
       "      <td>2217</td>\n",
       "      <td>Yes</td>\n",
       "    </tr>\n",
       "    <tr>\n",
       "      <th>10</th>\n",
       "      <td>GA</td>\n",
       "      <td>2107</td>\n",
       "      <td>Yes</td>\n",
       "    </tr>\n",
       "    <tr>\n",
       "      <th>11</th>\n",
       "      <td>HI</td>\n",
       "      <td>2070</td>\n",
       "      <td>Yes</td>\n",
       "    </tr>\n",
       "    <tr>\n",
       "      <th>12</th>\n",
       "      <td>IA</td>\n",
       "      <td>already reached</td>\n",
       "      <td>Yes</td>\n",
       "    </tr>\n",
       "    <tr>\n",
       "      <th>13</th>\n",
       "      <td>ID</td>\n",
       "      <td>already reached</td>\n",
       "      <td>Yes</td>\n",
       "    </tr>\n",
       "    <tr>\n",
       "      <th>14</th>\n",
       "      <td>IL</td>\n",
       "      <td>2087</td>\n",
       "      <td>Yes</td>\n",
       "    </tr>\n",
       "    <tr>\n",
       "      <th>15</th>\n",
       "      <td>IN</td>\n",
       "      <td>2099</td>\n",
       "      <td>Yes</td>\n",
       "    </tr>\n",
       "    <tr>\n",
       "      <th>16</th>\n",
       "      <td>KS</td>\n",
       "      <td>2026</td>\n",
       "      <td>Yes</td>\n",
       "    </tr>\n",
       "    <tr>\n",
       "      <th>17</th>\n",
       "      <td>KY</td>\n",
       "      <td>2167</td>\n",
       "      <td>Yes</td>\n",
       "    </tr>\n",
       "    <tr>\n",
       "      <th>18</th>\n",
       "      <td>LA</td>\n",
       "      <td>Not predictable</td>\n",
       "      <td>Yes</td>\n",
       "    </tr>\n",
       "    <tr>\n",
       "      <th>19</th>\n",
       "      <td>MA</td>\n",
       "      <td>2062</td>\n",
       "      <td>Yes</td>\n",
       "    </tr>\n",
       "    <tr>\n",
       "      <th>20</th>\n",
       "      <td>MD</td>\n",
       "      <td>2143</td>\n",
       "      <td>Yes</td>\n",
       "    </tr>\n",
       "    <tr>\n",
       "      <th>21</th>\n",
       "      <td>ME</td>\n",
       "      <td>already reached</td>\n",
       "      <td>Yes</td>\n",
       "    </tr>\n",
       "    <tr>\n",
       "      <th>22</th>\n",
       "      <td>MI</td>\n",
       "      <td>2114</td>\n",
       "      <td>Yes</td>\n",
       "    </tr>\n",
       "    <tr>\n",
       "      <th>23</th>\n",
       "      <td>MN</td>\n",
       "      <td>2043</td>\n",
       "      <td>Yes</td>\n",
       "    </tr>\n",
       "    <tr>\n",
       "      <th>24</th>\n",
       "      <td>MO</td>\n",
       "      <td>2094</td>\n",
       "      <td>Yes</td>\n",
       "    </tr>\n",
       "    <tr>\n",
       "      <th>25</th>\n",
       "      <td>MS</td>\n",
       "      <td>Not predictable</td>\n",
       "      <td>No</td>\n",
       "    </tr>\n",
       "    <tr>\n",
       "      <th>26</th>\n",
       "      <td>MT</td>\n",
       "      <td>2029</td>\n",
       "      <td>Yes</td>\n",
       "    </tr>\n",
       "    <tr>\n",
       "      <th>27</th>\n",
       "      <td>NC</td>\n",
       "      <td>2089</td>\n",
       "      <td>Yes</td>\n",
       "    </tr>\n",
       "    <tr>\n",
       "      <th>28</th>\n",
       "      <td>ND</td>\n",
       "      <td>2031</td>\n",
       "      <td>Yes</td>\n",
       "    </tr>\n",
       "    <tr>\n",
       "      <th>29</th>\n",
       "      <td>NE</td>\n",
       "      <td>2038</td>\n",
       "      <td>Yes</td>\n",
       "    </tr>\n",
       "    <tr>\n",
       "      <th>30</th>\n",
       "      <td>NH</td>\n",
       "      <td>2080</td>\n",
       "      <td>Yes</td>\n",
       "    </tr>\n",
       "    <tr>\n",
       "      <th>31</th>\n",
       "      <td>NJ</td>\n",
       "      <td>2331</td>\n",
       "      <td>Yes</td>\n",
       "    </tr>\n",
       "    <tr>\n",
       "      <th>32</th>\n",
       "      <td>NM</td>\n",
       "      <td>2032</td>\n",
       "      <td>Yes</td>\n",
       "    </tr>\n",
       "    <tr>\n",
       "      <th>33</th>\n",
       "      <td>NV</td>\n",
       "      <td>2040</td>\n",
       "      <td>Yes</td>\n",
       "    </tr>\n",
       "    <tr>\n",
       "      <th>34</th>\n",
       "      <td>NY</td>\n",
       "      <td>2066</td>\n",
       "      <td>Yes</td>\n",
       "    </tr>\n",
       "    <tr>\n",
       "      <th>35</th>\n",
       "      <td>OH</td>\n",
       "      <td>2299</td>\n",
       "      <td>Yes</td>\n",
       "    </tr>\n",
       "    <tr>\n",
       "      <th>36</th>\n",
       "      <td>OK</td>\n",
       "      <td>2027</td>\n",
       "      <td>Yes</td>\n",
       "    </tr>\n",
       "    <tr>\n",
       "      <th>37</th>\n",
       "      <td>OR</td>\n",
       "      <td>already reached</td>\n",
       "      <td>Yes</td>\n",
       "    </tr>\n",
       "    <tr>\n",
       "      <th>38</th>\n",
       "      <td>PA</td>\n",
       "      <td>2292</td>\n",
       "      <td>Yes</td>\n",
       "    </tr>\n",
       "    <tr>\n",
       "      <th>39</th>\n",
       "      <td>RI</td>\n",
       "      <td>2117</td>\n",
       "      <td>Yes</td>\n",
       "    </tr>\n",
       "    <tr>\n",
       "      <th>40</th>\n",
       "      <td>SC</td>\n",
       "      <td>2245</td>\n",
       "      <td>Yes</td>\n",
       "    </tr>\n",
       "    <tr>\n",
       "      <th>41</th>\n",
       "      <td>SD</td>\n",
       "      <td>already reached</td>\n",
       "      <td>Yes</td>\n",
       "    </tr>\n",
       "    <tr>\n",
       "      <th>42</th>\n",
       "      <td>TN</td>\n",
       "      <td>2082</td>\n",
       "      <td>No</td>\n",
       "    </tr>\n",
       "    <tr>\n",
       "      <th>43</th>\n",
       "      <td>TX</td>\n",
       "      <td>2047</td>\n",
       "      <td>Yes</td>\n",
       "    </tr>\n",
       "    <tr>\n",
       "      <th>44</th>\n",
       "      <td>UT</td>\n",
       "      <td>2080</td>\n",
       "      <td>Yes</td>\n",
       "    </tr>\n",
       "    <tr>\n",
       "      <th>45</th>\n",
       "      <td>VA</td>\n",
       "      <td>2154</td>\n",
       "      <td>Yes</td>\n",
       "    </tr>\n",
       "    <tr>\n",
       "      <th>46</th>\n",
       "      <td>VT</td>\n",
       "      <td>already reached</td>\n",
       "      <td>Yes</td>\n",
       "    </tr>\n",
       "    <tr>\n",
       "      <th>47</th>\n",
       "      <td>WA</td>\n",
       "      <td>already reached</td>\n",
       "      <td>Yes</td>\n",
       "    </tr>\n",
       "    <tr>\n",
       "      <th>48</th>\n",
       "      <td>WI</td>\n",
       "      <td>2185</td>\n",
       "      <td>Yes</td>\n",
       "    </tr>\n",
       "    <tr>\n",
       "      <th>49</th>\n",
       "      <td>WV</td>\n",
       "      <td>2223</td>\n",
       "      <td>Yes</td>\n",
       "    </tr>\n",
       "    <tr>\n",
       "      <th>50</th>\n",
       "      <td>WY</td>\n",
       "      <td>2055</td>\n",
       "      <td>Yes</td>\n",
       "    </tr>\n",
       "  </tbody>\n",
       "</table>\n",
       "</div>"
      ],
      "text/plain": [
       "   state_id   predicted_year statistically_significant\n",
       "0        AK             2056                       Yes\n",
       "1        AL             2068                        No\n",
       "2        AR  Not predictable                        No\n",
       "3        AZ             2111                       Yes\n",
       "4        CA             2030                       Yes\n",
       "5        CO             2037                       Yes\n",
       "6        CT             2049                        No\n",
       "7        DC  Not predictable                       Yes\n",
       "8        DE             2270                       Yes\n",
       "9        FL             2217                       Yes\n",
       "10       GA             2107                       Yes\n",
       "11       HI             2070                       Yes\n",
       "12       IA  already reached                       Yes\n",
       "13       ID  already reached                       Yes\n",
       "14       IL             2087                       Yes\n",
       "15       IN             2099                       Yes\n",
       "16       KS             2026                       Yes\n",
       "17       KY             2167                       Yes\n",
       "18       LA  Not predictable                       Yes\n",
       "19       MA             2062                       Yes\n",
       "20       MD             2143                       Yes\n",
       "21       ME  already reached                       Yes\n",
       "22       MI             2114                       Yes\n",
       "23       MN             2043                       Yes\n",
       "24       MO             2094                       Yes\n",
       "25       MS  Not predictable                        No\n",
       "26       MT             2029                       Yes\n",
       "27       NC             2089                       Yes\n",
       "28       ND             2031                       Yes\n",
       "29       NE             2038                       Yes\n",
       "30       NH             2080                       Yes\n",
       "31       NJ             2331                       Yes\n",
       "32       NM             2032                       Yes\n",
       "33       NV             2040                       Yes\n",
       "34       NY             2066                       Yes\n",
       "35       OH             2299                       Yes\n",
       "36       OK             2027                       Yes\n",
       "37       OR  already reached                       Yes\n",
       "38       PA             2292                       Yes\n",
       "39       RI             2117                       Yes\n",
       "40       SC             2245                       Yes\n",
       "41       SD  already reached                       Yes\n",
       "42       TN             2082                        No\n",
       "43       TX             2047                       Yes\n",
       "44       UT             2080                       Yes\n",
       "45       VA             2154                       Yes\n",
       "46       VT  already reached                       Yes\n",
       "47       WA  already reached                       Yes\n",
       "48       WI             2185                       Yes\n",
       "49       WV             2223                       Yes\n",
       "50       WY             2055                       Yes"
      ]
     },
     "execution_count": 59,
     "metadata": {},
     "output_type": "execute_result"
    }
   ],
   "source": [
    "    results = []\n",
    "    data = data[data['state_id'] != 'PR']\n",
    "    grouped_data = data.groupby('state_id')\n",
    "percent_required = 60\n",
    "    for state, state_data in grouped_data:\n",
    "        if state_data[\"PercentageRenewable\"].iloc[-1] < percent_required:\n",
    "            train_data, test_data = train_test_split(state_data, test_size=0.2, random_state=100)\n",
    "            X_train = train_data[['PercentageRenewable']]\n",
    "            y_train = train_data['year']\n",
    "            X_train = sm.add_constant(X_train)\n",
    "            model = sm.OLS(y_train, X_train).fit()\n",
    "            X_test = sm.add_constant(test_data[['PercentageRenewable']])\n",
    "            y_pred = model.predict(X_test)\n",
    "            p_value = model.pvalues['PercentageRenewable']\n",
    "            predicted_year = round(model.predict([1, percent_required])[0])\n",
    "            statistically_significant = 'Yes' if p_value < 0.05 else 'No'\n",
    "            current_year = pd.to_datetime('today').year\n",
    "\n",
    "            if predicted_year >= current_year:\n",
    "                statistically_significant = 'Yes' if p_value < 0.05 else 'No'\n",
    "                results.append({'state_id': state, 'predicted_year': int(predicted_year),\n",
    "                                'statistically_significant': statistically_significant})\n",
    "            else:\n",
    "                statistically_significant = 'Yes' if p_value < 0.05 else 'No'\n",
    "                predicted_year = 'Not predictable'\n",
    "                results.append({'state_id': state, 'predicted_year': predicted_year,\n",
    "                                'statistically_significant': statistically_significant})\n",
    "        else:\n",
    "            results.append({'state_id': state, 'predicted_year': 'already reached',\n",
    "                            'statistically_significant': statistically_significant})\n",
    "\n",
    "    results_df = pd.DataFrame(results)\n",
    "    results_df.to_csv('place_holder_predictions.csv')\n",
    "    results_df"
   ]
  },
  {
   "cell_type": "code",
   "execution_count": null,
   "id": "ba6bdff2-6ba4-403e-97e9-5e2832f7dafb",
   "metadata": {},
   "outputs": [],
   "source": []
  }
 ],
 "metadata": {
  "kernelspec": {
   "display_name": "Python 3 (ipykernel)",
   "language": "python",
   "name": "python3"
  },
  "language_info": {
   "codemirror_mode": {
    "name": "ipython",
    "version": 3
   },
   "file_extension": ".py",
   "mimetype": "text/x-python",
   "name": "python",
   "nbconvert_exporter": "python",
   "pygments_lexer": "ipython3",
   "version": "3.12.1"
  }
 },
 "nbformat": 4,
 "nbformat_minor": 5
}
