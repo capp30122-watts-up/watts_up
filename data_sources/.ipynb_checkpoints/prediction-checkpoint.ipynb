{
 "cells": [
  {
   "cell_type": "code",
   "execution_count": 150,
   "id": "353e90d6-cddb-4de7-9384-874dac7be407",
   "metadata": {},
   "outputs": [],
   "source": [
    "import sqlite3\n",
    "import pandas as pd\n",
    "from sklearn.model_selection import train_test_split\n",
    "from sklearn.linear_model import LinearRegression\n",
    "from sklearn.metrics import mean_squared_error\n",
    "from pathlib import Path\n",
    "import matplotlib.pyplot as plt \n",
    "import statsmodels.api as sm"
   ]
  },
  {
   "cell_type": "code",
   "execution_count": 107,
   "id": "61746c8a-9507-4bc1-a8c2-69de27b49b7e",
   "metadata": {},
   "outputs": [],
   "source": [
    "db_folder = Path('database')\n",
    "\n",
    "conn = sqlite3.connect(db_folder / 'plants.db')\n",
    "\n",
    "query = '''\n",
    "    SELECT p.year_state, p.year, p.state_id,\n",
    "    sum(p.PLGENATN) as total_non_renew_gen, sum(p.PLGENATR) as total_renew_gen\n",
    "    FROM plants p\n",
    "    GROUP BY p.year_state, p.year;\n",
    "'''\n",
    "\n",
    "data = pd.read_sql_query(query, conn)\n",
    "\n",
    "conn.close()"
   ]
  },
  {
   "cell_type": "code",
   "execution_count": 133,
   "id": "66d75deb-4a58-4b38-9114-c856a2c6d868",
   "metadata": {},
   "outputs": [],
   "source": [
    "data = data[data['state_id'] != 'PR']"
   ]
  },
  {
   "cell_type": "code",
   "execution_count": 109,
   "id": "115b4ef9-63b6-4721-8421-cb93157e3edf",
   "metadata": {},
   "outputs": [
    {
     "name": "stdout",
     "output_type": "stream",
     "text": [
      "     year state_id  PercentageRenewable  PercentageNonRenewable\n",
      "0    2004       AK            23.093320               76.906680\n",
      "1    2004       AL            10.576485               89.423515\n",
      "2    2004       AR            10.765883               89.234117\n",
      "3    2004       AZ             7.045633               92.954367\n",
      "4    2004       CA            29.159101               70.840899\n",
      "..    ...      ...                  ...                     ...\n",
      "662  2022       VT            99.558754                0.441246\n",
      "663  2022       WA            75.739237               24.260763\n",
      "664  2022       WI             9.412467               90.587533\n",
      "665  2022       WV             6.466665               93.533335\n",
      "666  2022       WY            23.178034               76.821966\n",
      "\n",
      "[663 rows x 4 columns]\n"
     ]
    }
   ],
   "source": [
    "RenewableGeneration = \"total_renew_gen\"\n",
    "NonRenewableGeneration = \"total_non_renew_gen\"\n",
    "total_generation_column = \"total_generation\"\n",
    "state_column = \"state_id\"\n",
    "year_column = \"year\"\n",
    "\n",
    "data[total_generation_column] = data[RenewableGeneration] + data[NonRenewableGeneration]\n",
    "\n",
    "\n",
    "data[\"PercentageRenewable\"] = (data[RenewableGeneration] / data[total_generation_column]) * 100\n",
    "data[\"PercentageNonRenewable\"] = (data[NonRenewableGeneration] / data[total_generation_column]) * 100\n",
    "\n",
    "print(data[[\"year\", \"state_id\", \"PercentageRenewable\", \"PercentageNonRenewable\"]])\n"
   ]
  },
  {
   "cell_type": "code",
   "execution_count": 153,
   "id": "0b23a02f-301e-4f94-bd17-53b9e4b2745b",
   "metadata": {},
   "outputs": [],
   "source": [
    "checl_df = data[data['PercentageRenewable']>60]"
   ]
  },
  {
   "cell_type": "code",
   "execution_count": 154,
   "id": "71a24c6b-2cbb-4ab2-b184-aad4b72f2b74",
   "metadata": {},
   "outputs": [
    {
     "data": {
      "text/plain": [
       "array(['ID', 'OR', 'WA', 'SD', 'ME', 'DC', 'VT', 'IA'], dtype=object)"
      ]
     },
     "execution_count": 154,
     "metadata": {},
     "output_type": "execute_result"
    }
   ],
   "source": [
    "checl_df['state_id'].unique()"
   ]
  },
  {
   "cell_type": "code",
   "execution_count": 149,
   "id": "cbc1dbcb-0c6d-495e-b0f8-a9e3274e42de",
   "metadata": {},
   "outputs": [
    {
     "name": "stdout",
     "output_type": "stream",
     "text": [
      "States with the highest improvement in renewable energy:\n",
      "State VT: Slope = 5.397310847846186, Significance = Yes\n",
      "State DC: Slope = 3.543658611824048, Significance = Yes\n",
      "State IA: Slope = 3.227904664785381, Significance = Yes\n",
      "State KS: Slope = 2.9591007326231784, Significance = Yes\n",
      "State OK: Slope = 2.50552210153493, Significance = Yes\n",
      "State ND: Slope = 2.102951756361441, Significance = Yes\n",
      "State NM: Slope = 1.9665624105296884, Significance = Yes\n",
      "State ME: Slope = 1.8894158140393789, Significance = Yes\n",
      "State SD: Slope = 1.8803825092825153, Significance = Yes\n",
      "State CO: Slope = 1.7732254019650997, Significance = Yes\n",
      "State NE: Slope = 1.7127236030328088, Significance = Yes\n",
      "State NV: Slope = 1.492014768887635, Significance = Yes\n",
      "State MN: Slope = 1.394240437626209, Significance = Yes\n",
      "State TX: Slope = 1.366444602866196, Significance = Yes\n",
      "State MT: Slope = 1.1569681420106788, Significance = Yes\n",
      "State CA: Slope = 1.0793297370772712, Significance = Yes\n",
      "State MA: Slope = 0.9828926144760826, Significance = Yes\n",
      "State WY: Slope = 0.9572381959856882, Significance = Yes\n",
      "State HI: Slope = 0.7940189425465056, Significance = Yes\n",
      "State UT: Slope = 0.7302304440619143, Significance = Yes\n",
      "State IL: Slope = 0.6651630186024591, Significance = Yes\n",
      "State NY: Slope = 0.6403583645896098, Significance = Yes\n",
      "State NC: Slope = 0.5839788079511987, Significance = Yes\n",
      "State IN: Slope = 0.5744153189418422, Significance = Yes\n",
      "State AK: Slope = 0.5537235032119643, Significance = Yes\n",
      "State MI: Slope = 0.4902461037521759, Significance = Yes\n",
      "State MO: Slope = 0.4888593168852762, Significance = Yes\n",
      "State RI: Slope = 0.45355630492582666, Significance = Yes\n",
      "State AZ: Slope = 0.43222361720310354, Significance = Yes\n",
      "State GA: Slope = 0.4204685791349121, Significance = Yes\n",
      "State NH: Slope = 0.3475281054883398, Significance = Yes\n",
      "State MD: Slope = 0.31666094774735387, Significance = Yes\n",
      "State TN: Slope = 0.30732178196259063, Significance = Yes\n",
      "State VA: Slope = 0.2726527323819221, Significance = Yes\n",
      "State KY: Slope = 0.26800174780367464, Significance = Yes\n",
      "State WI: Slope = 0.26228880796282966, Significance = Yes\n",
      "State WV: Slope = 0.253297897398718, Significance = Yes\n",
      "State SC: Slope = 0.203706448503491, Significance = Yes\n",
      "State FL: Slope = 0.2001240791998488, Significance = Yes\n",
      "State OH: Slope = 0.1805191482853759, Significance = Yes\n",
      "State NJ: Slope = 0.169228665844899, Significance = Yes\n",
      "State DE: Slope = 0.12848554782932053, Significance = Yes\n",
      "State AL: Slope = 0.11471612700231454, Significance = No\n",
      "State PA: Slope = 0.11426803061626634, Significance = Yes\n",
      "State OR: Slope = 0.06809219095283899, Significance = No\n",
      "State WA: Slope = 0.04255454072689049, Significance = No\n",
      "State CT: Slope = 0.024142483405952108, Significance = No\n",
      "State MS: Slope = -0.043108901561538064, Significance = Yes\n",
      "State LA: Slope = -0.048233808093986974, Significance = Yes\n",
      "State AR: Slope = -0.08392220330944755, Significance = No\n",
      "State ID: Slope = -0.6897271132375448, Significance = Yes\n"
     ]
    }
   ],
   "source": [
    "\n",
    "grouped_data = data.groupby('state_id')\n",
    "\n",
    "slopes = {}\n",
    "\n",
    "def get_slope(state):\n",
    "    return slopes[state][0]\n",
    "\n",
    "for state, state_data in grouped_data:\n",
    "    X = sm.add_constant(state_data[['year']])\n",
    "    y = state_data['PercentageRenewable']\n",
    "\n",
    "    model = sm.OLS(y, X).fit()\n",
    "\n",
    "    slope = model.params['year']\n",
    "    p_value = model.pvalues['year']\n",
    "    \n",
    "    if p_value < 0.05:\n",
    "        sig = 'Yes'\n",
    "    else:\n",
    "        sig = 'No'\n",
    "    \n",
    "    slopes[state] = (slope, sig)\n",
    "\n",
    "top_states = sorted(slopes, key = get_slope, reverse=True)\n",
    "\n",
    "print(\"States with the highest improvement in renewable energy:\")\n",
    "for state in top_states:\n",
    "    print(f\"State {state}: Slope = {slopes[state][0]}, Significance = {slopes[state][1]}\")\n"
   ]
  },
  {
   "cell_type": "code",
   "execution_count": 155,
   "id": "1be9ca29-e4ef-431c-be23-2223db7a4989",
   "metadata": {},
   "outputs": [
    {
     "name": "stdout",
     "output_type": "stream",
     "text": [
      "   state_id   predicted_year statistically_significant\n",
      "0        AK             2051                       Yes\n",
      "1        AL             2072                        No\n",
      "2        AR  Not predictable                        No\n",
      "3        AZ             2111                       Yes\n",
      "4        CA             2030                       Yes\n",
      "5        CO             2036                       Yes\n",
      "6        CT             2167                        No\n",
      "7        DC  Not predictable                       Yes\n",
      "8        DE             2246                       Yes\n",
      "9        FL             2212                       Yes\n",
      "10       GA             2096                       Yes\n",
      "11       HI             2067                       Yes\n",
      "12       IA  already reached                       Yes\n",
      "13       ID  already reached                       Yes\n",
      "14       IL             2085                       Yes\n",
      "15       IN             2096                       Yes\n",
      "16       KS             2026                       Yes\n",
      "17       KY             2148                       Yes\n",
      "18       LA  Not predictable                        No\n",
      "19       MA             2054                       Yes\n",
      "20       MD             2140                       Yes\n",
      "21       ME  already reached                       Yes\n",
      "22       MI             2107                       Yes\n",
      "23       MN             2041                       Yes\n",
      "24       MO             2095                       Yes\n",
      "25       MS  Not predictable                        No\n",
      "26       MT  already reached                        No\n",
      "27       NC             2079                       Yes\n",
      "28       ND             2030                       Yes\n",
      "29       NE             2036                       Yes\n",
      "30       NH             2075                       Yes\n",
      "31       NJ             2282                       Yes\n",
      "32       NM             2033                       Yes\n",
      "33       NV             2040                       Yes\n",
      "34       NY             2065                       Yes\n",
      "35       OH             2307                       Yes\n",
      "36       OK             2027                       Yes\n",
      "37       OR  already reached                       Yes\n",
      "38       PA             2270                       Yes\n",
      "39       RI             2111                       Yes\n",
      "40       SC             2191                       Yes\n",
      "41       SD  already reached                       Yes\n",
      "42       TN             2069                       Yes\n",
      "43       TX             2046                       Yes\n",
      "44       UT             2075                       Yes\n",
      "45       VA             2156                       Yes\n",
      "46       VT  already reached                       Yes\n",
      "47       WA  already reached                       Yes\n",
      "48       WI             2156                       Yes\n",
      "49       WV             2193                       Yes\n",
      "50       WY             2057                       Yes\n"
     ]
    }
   ],
   "source": [
    "results = []\n",
    "\n",
    "grouped_data = data.groupby('state_id')\n",
    "perc_required = 50 \n",
    "input_variable = 'PercentageRenewable'\n",
    "for state, state_data in grouped_data:\n",
    "    \n",
    "    if state_data[input_variable].iloc[-1] < perc_required:\n",
    "        \n",
    "        train_data, test_data = train_test_split(state_data,\\\n",
    "                                                 test_size=0.2, random_state = 100)\n",
    "        \n",
    "        X_train = train_data[[input_variable]]\n",
    "        y_train = train_data['year']\n",
    "        X_train = sm.add_constant(X_train)\n",
    "        \n",
    "        model = sm.OLS(y_train, X_train).fit()\n",
    "        \n",
    "        X_test = sm.add_constant(test_data[[input_variable]])\n",
    "        y_pred = model.predict(X_test)\n",
    "        \n",
    "        p_value = model.pvalues[input_variable]\n",
    "        predicted_year = round(model.predict([1, desired_percentage])[0])\n",
    "        statistically_significant = 'Yes' if p_value < 0.05 else 'No'\n",
    "        \n",
    "        current_year = pd.to_datetime('today').year\n",
    "        if predicted_year >= current_year:\n",
    "            statistically_significant = 'Yes' if p_value < 0.05 else 'No'\n",
    "            results.append({'state_id': state, 'predicted_year': int(predicted_year),\\\n",
    "                            'statistically_significant': statistically_significant})\n",
    "        else:\n",
    "            statistically_significant = 'Yes' if p_value < 0.05 else 'No'\n",
    "            predicted_year = 'Not predictable'\n",
    "            results.append({'state_id': state, 'predicted_year': predicted_year, \\\n",
    "                            'statistically_significant': statistically_significant})\n",
    "            \n",
    "    else:\n",
    "        results.append({'state_id': state, 'predicted_year': 'already reached' ,\\\n",
    "                        'statistically_significant': statistically_significant})\n",
    "\n",
    "\n",
    "results_df = pd.DataFrame(results)\n",
    "print(results_df)\n",
    "results_df.to_csv('place_holder_predictions.csv')"
   ]
  },
  {
   "cell_type": "code",
   "execution_count": null,
   "id": "ba6bdff2-6ba4-403e-97e9-5e2832f7dafb",
   "metadata": {},
   "outputs": [],
   "source": [
    "            # plt.figure(figsize=(10, 6))\n",
    "            # plt.scatter(state_data['PercentageRenewable'], state_data['year'], label='Actual Data')\n",
    "            # plt.plot(test_data['PercentageRenewable'], y_pred, label='Predicted Trend Line', color='red')\n",
    "            # plt.axhline(y=predicted_year, color='green', linestyle='--', label=f'Predicted Year: {predicted_year}')\n",
    "            # plt.title(f'Trend Lines for {state}')\n",
    "            # plt.xlabel('Percentage Renewable Energy')\n",
    "            # plt.ylabel('Year')\n",
    "            # plt.legend()\n",
    "            # plt.show()"
   ]
  }
 ],
 "metadata": {
  "kernelspec": {
   "display_name": "Python 3 (ipykernel)",
   "language": "python",
   "name": "python3"
  },
  "language_info": {
   "codemirror_mode": {
    "name": "ipython",
    "version": 3
   },
   "file_extension": ".py",
   "mimetype": "text/x-python",
   "name": "python",
   "nbconvert_exporter": "python",
   "pygments_lexer": "ipython3",
   "version": "3.12.1"
  }
 },
 "nbformat": 4,
 "nbformat_minor": 5
}
