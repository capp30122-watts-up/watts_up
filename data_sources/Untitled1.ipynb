{
 "cells": [
  {
   "cell_type": "code",
   "execution_count": 1,
   "id": "c10ba6fe-800b-46ae-ab40-4283bd95b649",
   "metadata": {},
   "outputs": [
    {
     "name": "stderr",
     "output_type": "stream",
     "text": [
      "/var/folders/3p/76rt9gg12vg2yxlm073tswvc0000gn/T/ipykernel_66738/4207943148.py:4: DeprecationWarning: \n",
      "Pyarrow will become a required dependency of pandas in the next major release of pandas (pandas 3.0),\n",
      "(to allow more performant data types, such as the Arrow string type, and better interoperability with other libraries)\n",
      "but was not found to be installed on your system.\n",
      "If this would cause problems for you,\n",
      "please provide us feedback at https://github.com/pandas-dev/pandas/issues/54466\n",
      "        \n",
      "  import pandas as pd\n"
     ]
    }
   ],
   "source": [
    "import sqlite3\n",
    "import pathlib\n",
    "import os\n",
    "import pandas as pd\n",
    "import json"
   ]
  },
  {
   "cell_type": "code",
   "execution_count": 4,
   "id": "4e85a829-96b7-4224-9a8b-bb229ba2a584",
   "metadata": {},
   "outputs": [
    {
     "data": {
      "text/html": [
       "<div>\n",
       "<style scoped>\n",
       "    .dataframe tbody tr th:only-of-type {\n",
       "        vertical-align: middle;\n",
       "    }\n",
       "\n",
       "    .dataframe tbody tr th {\n",
       "        vertical-align: top;\n",
       "    }\n",
       "\n",
       "    .dataframe thead th {\n",
       "        text-align: right;\n",
       "    }\n",
       "</style>\n",
       "<table border=\"1\" class=\"dataframe\">\n",
       "  <thead>\n",
       "    <tr style=\"text-align: right;\">\n",
       "      <th></th>\n",
       "      <th>year</th>\n",
       "      <th>population</th>\n",
       "      <th>stateid</th>\n",
       "      <th>year_state</th>\n",
       "    </tr>\n",
       "  </thead>\n",
       "  <tbody>\n",
       "    <tr>\n",
       "      <th>0</th>\n",
       "      <td>2010</td>\n",
       "      <td>4785437</td>\n",
       "      <td>AL</td>\n",
       "      <td>2010_AL</td>\n",
       "    </tr>\n",
       "    <tr>\n",
       "      <th>1</th>\n",
       "      <td>2010</td>\n",
       "      <td>713910</td>\n",
       "      <td>AK</td>\n",
       "      <td>2010_AK</td>\n",
       "    </tr>\n",
       "    <tr>\n",
       "      <th>2</th>\n",
       "      <td>2010</td>\n",
       "      <td>6407172</td>\n",
       "      <td>AZ</td>\n",
       "      <td>2010_AZ</td>\n",
       "    </tr>\n",
       "    <tr>\n",
       "      <th>3</th>\n",
       "      <td>2010</td>\n",
       "      <td>2921964</td>\n",
       "      <td>AR</td>\n",
       "      <td>2010_AR</td>\n",
       "    </tr>\n",
       "    <tr>\n",
       "      <th>4</th>\n",
       "      <td>2010</td>\n",
       "      <td>37319502</td>\n",
       "      <td>CA</td>\n",
       "      <td>2010_CA</td>\n",
       "    </tr>\n",
       "    <tr>\n",
       "      <th>...</th>\n",
       "      <td>...</td>\n",
       "      <td>...</td>\n",
       "      <td>...</td>\n",
       "      <td>...</td>\n",
       "    </tr>\n",
       "    <tr>\n",
       "      <th>709</th>\n",
       "      <td>2023</td>\n",
       "      <td>8715698</td>\n",
       "      <td>VA</td>\n",
       "      <td>2023_VA</td>\n",
       "    </tr>\n",
       "    <tr>\n",
       "      <th>710</th>\n",
       "      <td>2023</td>\n",
       "      <td>7812880</td>\n",
       "      <td>WA</td>\n",
       "      <td>2023_WA</td>\n",
       "    </tr>\n",
       "    <tr>\n",
       "      <th>711</th>\n",
       "      <td>2023</td>\n",
       "      <td>1770071</td>\n",
       "      <td>WV</td>\n",
       "      <td>2023_WV</td>\n",
       "    </tr>\n",
       "    <tr>\n",
       "      <th>712</th>\n",
       "      <td>2023</td>\n",
       "      <td>5910955</td>\n",
       "      <td>WI</td>\n",
       "      <td>2023_WI</td>\n",
       "    </tr>\n",
       "    <tr>\n",
       "      <th>713</th>\n",
       "      <td>2023</td>\n",
       "      <td>584057</td>\n",
       "      <td>WY</td>\n",
       "      <td>2023_WY</td>\n",
       "    </tr>\n",
       "  </tbody>\n",
       "</table>\n",
       "<p>714 rows × 4 columns</p>\n",
       "</div>"
      ],
      "text/plain": [
       "     year  population stateid year_state\n",
       "0    2010     4785437      AL    2010_AL\n",
       "1    2010      713910      AK    2010_AK\n",
       "2    2010     6407172      AZ    2010_AZ\n",
       "3    2010     2921964      AR    2010_AR\n",
       "4    2010    37319502      CA    2010_CA\n",
       "..    ...         ...     ...        ...\n",
       "709  2023     8715698      VA    2023_VA\n",
       "710  2023     7812880      WA    2023_WA\n",
       "711  2023     1770071      WV    2023_WV\n",
       "712  2023     5910955      WI    2023_WI\n",
       "713  2023      584057      WY    2023_WY\n",
       "\n",
       "[714 rows x 4 columns]"
      ]
     },
     "execution_count": 4,
     "metadata": {},
     "output_type": "execute_result"
    }
   ],
   "source": [
    "with open(\"pop_numbers.json\", \"r\") as f:\n",
    "    data = json.load(f)\n",
    "\n",
    "df = pd.DataFrame(data)\n"
   ]
  },
  {
   "cell_type": "code",
   "execution_count": 6,
   "id": "e8792dda-9504-4486-ac3b-e005dc3053f0",
   "metadata": {},
   "outputs": [
    {
     "data": {
      "text/plain": [
       "1"
      ]
     },
     "execution_count": 6,
     "metadata": {},
     "output_type": "execute_result"
    }
   ],
   "source": [
    "df.value_counts('year_state').max()\n"
   ]
  },
  {
   "cell_type": "code",
   "execution_count": null,
   "id": "5340d443-19c1-4ae6-9dc9-b777bd2136d9",
   "metadata": {},
   "outputs": [],
   "source": []
  },
  {
   "cell_type": "code",
   "execution_count": null,
   "id": "d7f97824-54b9-402c-91b0-ebd5e5978902",
   "metadata": {},
   "outputs": [],
   "source": [
    "df = pd.read_csv(\"cleaned_plant_data.csv\")\n",
    "df"
   ]
  }
 ],
 "metadata": {
  "kernelspec": {
   "display_name": "Python 3 (ipykernel)",
   "language": "python",
   "name": "python3"
  },
  "language_info": {
   "codemirror_mode": {
    "name": "ipython",
    "version": 3
   },
   "file_extension": ".py",
   "mimetype": "text/x-python",
   "name": "python",
   "nbconvert_exporter": "python",
   "pygments_lexer": "ipython3",
   "version": "3.12.0"
  }
 },
 "nbformat": 4,
 "nbformat_minor": 5
}
